{
 "cells": [
  {
   "cell_type": "markdown",
   "id": "1b9dab24-d5c5-4bac-9646-8fd24db47b67",
   "metadata": {},
   "source": [
    "### Demo of agentic RAG using Langgraph\n",
    "This demo will outline the following items:\n",
    " - Fetch and preprocess documents that will be used for retrieval.\n",
    " - Index those documents for semantic search and create a retriever tool for the agent.\n",
    " - Build an agentic RAG system that can decide when to use the retriever tool.\n",
    "\n",
    "Reference: [Langgraph agentic RAG](https://langchain-ai.github.io/langgraph/tutorials/rag/langgraph_agentic_rag/) "
   ]
  },
  {
   "cell_type": "markdown",
   "id": "8ed0a19b-7ee9-49f4-982e-152bef53b850",
   "metadata": {},
   "source": [
    "#### Installs"
   ]
  },
  {
   "cell_type": "code",
   "execution_count": 1,
   "id": "ad904cb1-08a0-4d57-bb34-30bb0ad6d52c",
   "metadata": {},
   "outputs": [],
   "source": [
    "%%capture --no-stderr\n",
    "%pip install -U --quiet langgraph \"langchain[openai]\" langchain-community langchain-text-splitters"
   ]
  },
  {
   "cell_type": "markdown",
   "id": "34436e77-acd3-4d12-ae59-9c50d4d471ce",
   "metadata": {},
   "source": [
    "#### Imports"
   ]
  },
  {
   "cell_type": "code",
   "execution_count": 5,
   "id": "2c7e53e8-f93f-4fff-b731-5429f05c6ea5",
   "metadata": {},
   "outputs": [
    {
     "name": "stderr",
     "output_type": "stream",
     "text": [
      "USER_AGENT environment variable not set, consider setting it to identify your requests.\n"
     ]
    }
   ],
   "source": [
    "from typing import List, Tuple, Dict, Any\n",
    "import IPython.display as id\n",
    "import os\n",
    "from dotenv import load_dotenv\n",
    "from langchain_community.document_loaders import WebBaseLoader"
   ]
  },
  {
   "cell_type": "markdown",
   "id": "7b6d37ab-52bb-4f0e-92e8-292f05ec1b56",
   "metadata": {},
   "source": [
    "#### Global constants/variables"
   ]
  },
  {
   "cell_type": "code",
   "execution_count": 4,
   "id": "7d8b572f-4e70-4a0e-b34b-4fb7abdb2aac",
   "metadata": {},
   "outputs": [],
   "source": [
    "NEw_LINE = \"\\n\"\n",
    "LINE_DIVIDER = \"==========\" * 5"
   ]
  },
  {
   "cell_type": "markdown",
   "id": "b6029270-ae96-40e0-972d-61c0f1d8a77b",
   "metadata": {},
   "source": [
    "#### Set Open AI key"
   ]
  },
  {
   "cell_type": "code",
   "execution_count": 6,
   "id": "72dea1c8-1d0a-4bb2-a82d-9fc38cc0411a",
   "metadata": {},
   "outputs": [],
   "source": [
    "_ = load_dotenv()\n",
    "os.environ[\"OPENAI_API_KEY\"] = os.getenv(\"OPENAI_API_KEY\")"
   ]
  },
  {
   "cell_type": "markdown",
   "id": "399707b7-3b62-4e8e-9023-f18022fe1d53",
   "metadata": {},
   "source": [
    "#### Fetch documents"
   ]
  },
  {
   "cell_type": "code",
   "execution_count": 7,
   "id": "248052da-44ba-4423-ad65-dc52884c800f",
   "metadata": {},
   "outputs": [],
   "source": [
    "def getDocuments() -> List[Any]:\n",
    "    \"\"\"\n",
    "    GFetch documents to use in our RAG system. \n",
    "    We will use three of the most recent pages from Lilian Weng's excellent blog.t\n",
    "    \"\"\"\n",
    "    urls = [\n",
    "        \"https://lilianweng.github.io/posts/2024-11-28-reward-hacking/\",\n",
    "        \"https://lilianweng.github.io/posts/2024-07-07-hallucination/\",\n",
    "        \"https://lilianweng.github.io/posts/2024-04-12-diffusion-video/\",\n",
    "    ]\n",
    "    \n",
    "    docs = [WebBaseLoader(url).load() for url in urls]\n",
    "    return docs\n",
    "\n",
    "docs = getDocuments()"
   ]
  },
  {
   "cell_type": "markdown",
   "id": "c9ae1795-875f-4430-aaaf-0a7b6a817c09",
   "metadata": {},
   "source": [
    "#### "
   ]
  },
  {
   "cell_type": "code",
   "execution_count": null,
   "id": "72307611-3108-4674-9812-30dbbadedc6e",
   "metadata": {},
   "outputs": [],
   "source": []
  }
 ],
 "metadata": {
  "kernelspec": {
   "display_name": "Python 3 (ipykernel)",
   "language": "python",
   "name": "python3"
  },
  "language_info": {
   "codemirror_mode": {
    "name": "ipython",
    "version": 3
   },
   "file_extension": ".py",
   "mimetype": "text/x-python",
   "name": "python",
   "nbconvert_exporter": "python",
   "pygments_lexer": "ipython3",
   "version": "3.12.11"
  }
 },
 "nbformat": 4,
 "nbformat_minor": 5
}

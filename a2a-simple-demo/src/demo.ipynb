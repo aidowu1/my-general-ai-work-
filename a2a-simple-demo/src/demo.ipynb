{
 "cells": [
  {
   "cell_type": "markdown",
   "id": "6772e83a",
   "metadata": {},
   "source": [
    "## Demo A2A\n",
    "The workflow is:\n",
    " - We have 2 agents A and B interoperating with each other\n",
    " - Agent A is a client agent\n",
    " - Agent B is a server agent\n",
    " - Agent B also acts as client that calls 2 MCP servers to do a specific task (on-behalf of A):\n",
    "   - Date Time MCP server\n",
    "   - Currency Conversion MCP Server\n",
    " - Agent A calls Agent B to perform a number the 2 tasks (facilitated by the MCP tools) over Google's A2A protocol\n"
   ]
  },
  {
   "cell_type": "markdown",
   "id": "7541796c",
   "metadata": {},
   "source": [
    "#### Library imports"
   ]
  },
  {
   "cell_type": "code",
   "execution_count": 1,
   "id": "de4c216f",
   "metadata": {},
   "outputs": [],
   "source": [
    "import threading\n",
    "\n",
    "import mcp_currency_server as mcp_currency\n",
    "import mcp_datetime_server as mcp_datetime\n",
    "import agent_a\n",
    "import agent_b\n",
    "import configs\n",
    "\n"
   ]
  },
  {
   "cell_type": "markdown",
   "id": "a941c2b8",
   "metadata": {},
   "source": [
    "#### Start the Currency Conversion MCP server"
   ]
  },
  {
   "cell_type": "code",
   "execution_count": null,
   "id": "78e6bf62",
   "metadata": {},
   "outputs": [
    {
     "name": "stderr",
     "output_type": "stream",
     "text": [
      "\n",
      "\n",
      "\u001b[2m┌─\u001b[0m\u001b[2m FastMCP 2.0 \u001b[0m\u001b[2m─────────────────────────────────────────────────────────────\u001b[0m\u001b[2m─┐\u001b[0m\n",
      "\u001b[2m│\u001b[0m                                                                            \u001b[2m│\u001b[0m\n",
      "\u001b[2m│\u001b[0m    \u001b[1;32m    _ __ ___ ______           __  __  _____________    ____    ____ \u001b[0m    \u001b[2m│\u001b[0m\n",
      "\u001b[2m│\u001b[0m    \u001b[1;32m   _ __ ___ / ____/___ ______/ /_/  |/  / ____/ __ \\  |___ \\  / __ \\\u001b[0m    \u001b[2m│\u001b[0m\n",
      "\u001b[2m│\u001b[0m    \u001b[1;32m  _ __ ___ / /_  / __ `/ ___/ __/ /|_/ / /   / /_/ /  ___/ / / / / /\u001b[0m    \u001b[2m│\u001b[0m\n",
      "\u001b[2m│\u001b[0m    \u001b[1;32m _ __ ___ / __/ / /_/ (__  ) /_/ /  / / /___/ ____/  /  __/_/ /_/ / \u001b[0m    \u001b[2m│\u001b[0m\n",
      "\u001b[2m│\u001b[0m    \u001b[1;32m_ __ ___ /_/    \\__,_/____/\\__/_/  /_/\\____/_/      /_____(_)____/  \u001b[0m    \u001b[2m│\u001b[0m\n",
      "\u001b[2m│\u001b[0m                                                                            \u001b[2m│\u001b[0m\n",
      "\u001b[2m│\u001b[0m                                                                            \u001b[2m│\u001b[0m\n",
      "\u001b[2m│\u001b[0m                                                                            \u001b[2m│\u001b[0m\n",
      "\u001b[2m│\u001b[0m    \u001b[1m🖥️ \u001b[0m\u001b[1m \u001b[0m\u001b[1;36mServer name:    \u001b[0m\u001b[1;36m \u001b[0m\u001b[37mCurrencyMCP              \u001b[0m                           \u001b[2m│\u001b[0m\n",
      "\u001b[2m│\u001b[0m    \u001b[1m📦\u001b[0m\u001b[1m \u001b[0m\u001b[1;36mTransport:      \u001b[0m\u001b[1;36m \u001b[0m\u001b[37mStreamable-HTTP          \u001b[0m                           \u001b[2m│\u001b[0m\n",
      "\u001b[2m│\u001b[0m    \u001b[1m🔗\u001b[0m\u001b[1m \u001b[0m\u001b[1;36mServer URL:     \u001b[0m\u001b[1;36m \u001b[0m\u001b[37mhttp://127.0.0.1:8010/mcp\u001b[0m                           \u001b[2m│\u001b[0m\n",
      "\u001b[2m│\u001b[0m    \u001b[1m  \u001b[0m\u001b[1m \u001b[0m\u001b[1;36m                \u001b[0m\u001b[1;36m \u001b[0m\u001b[37m                         \u001b[0m                           \u001b[2m│\u001b[0m\n",
      "\u001b[2m│\u001b[0m    \u001b[1m📚\u001b[0m\u001b[1m \u001b[0m\u001b[1;36mDocs:           \u001b[0m\u001b[1;36m \u001b[0m\u001b[37mhttps://gofastmcp.com    \u001b[0m                           \u001b[2m│\u001b[0m\n",
      "\u001b[2m│\u001b[0m    \u001b[1m🚀\u001b[0m\u001b[1m \u001b[0m\u001b[1;36mDeploy:         \u001b[0m\u001b[1;36m \u001b[0m\u001b[37mhttps://fastmcp.cloud    \u001b[0m                           \u001b[2m│\u001b[0m\n",
      "\u001b[2m│\u001b[0m    \u001b[1m  \u001b[0m\u001b[1m \u001b[0m\u001b[1;36m                \u001b[0m\u001b[1;36m \u001b[0m\u001b[37m                         \u001b[0m                           \u001b[2m│\u001b[0m\n",
      "\u001b[2m│\u001b[0m    \u001b[1m🏎️ \u001b[0m\u001b[1m \u001b[0m\u001b[1;36mFastMCP version:\u001b[0m\u001b[1;36m \u001b[0m\u001b[2;37m2.11.2                   \u001b[0m                           \u001b[2m│\u001b[0m\n",
      "\u001b[2m│\u001b[0m    \u001b[1m🤝\u001b[0m\u001b[1m \u001b[0m\u001b[1;36mMCP version:    \u001b[0m\u001b[1;36m \u001b[0m\u001b[2;37m1.12.4                   \u001b[0m                           \u001b[2m│\u001b[0m\n",
      "\u001b[2m│\u001b[0m                                                                            \u001b[2m│\u001b[0m\n",
      "\u001b[2m└────────────────────────────────────────────────────────────────────────────┘\u001b[0m\n",
      "\n",
      "\n",
      "INFO:     Started server process [26172]\n",
      "INFO:     Waiting for application startup.\n",
      "INFO:     Application startup complete.\n",
      "INFO:     Uvicorn running on http://127.0.0.1:8010 (Press CTRL+C to quit)\n"
     ]
    },
    {
     "name": "stdout",
     "output_type": "stream",
     "text": [
      "INFO:     127.0.0.1:51147 - \"POST /mcp HTTP/1.1\" 307 Temporary Redirect\n",
      "INFO:     127.0.0.1:51147 - \"POST /mcp/ HTTP/1.1\" 200 OK\n",
      "INFO:     127.0.0.1:51148 - \"POST /mcp HTTP/1.1\" 307 Temporary Redirect\n",
      "INFO:     127.0.0.1:51149 - \"GET /mcp HTTP/1.1\" 307 Temporary Redirect\n",
      "INFO:     127.0.0.1:51148 - \"POST /mcp/ HTTP/1.1\" 202 Accepted\n",
      "INFO:     127.0.0.1:51149 - \"GET /mcp/ HTTP/1.1\" 200 OK\n",
      "INFO:     127.0.0.1:51150 - \"POST /mcp HTTP/1.1\" 307 Temporary Redirect\n",
      "INFO:     127.0.0.1:51150 - \"POST /mcp/ HTTP/1.1\" 200 OK\n",
      "Converting 123.45 USD to EUR at rate 0.92\n",
      "INFO:     127.0.0.1:51151 - \"POST /mcp HTTP/1.1\" 307 Temporary Redirect\n",
      "INFO:     127.0.0.1:51151 - \"POST /mcp/ HTTP/1.1\" 200 OK\n",
      "INFO:     127.0.0.1:51152 - \"DELETE /mcp HTTP/1.1\" 307 Temporary Redirect\n",
      "INFO:     127.0.0.1:51152 - \"DELETE /mcp/ HTTP/1.1\" 200 OK\n",
      "INFO:     127.0.0.1:58675 - \"POST /mcp HTTP/1.1\" 307 Temporary Redirect\n",
      "INFO:     127.0.0.1:58675 - \"POST /mcp/ HTTP/1.1\" 200 OK\n",
      "INFO:     127.0.0.1:58676 - \"POST /mcp HTTP/1.1\" 307 Temporary Redirect\n",
      "INFO:     127.0.0.1:58677 - \"GET /mcp HTTP/1.1\" 307 Temporary Redirect\n",
      "INFO:     127.0.0.1:58676 - \"POST /mcp/ HTTP/1.1\" 202 Accepted\n",
      "INFO:     127.0.0.1:58677 - \"GET /mcp/ HTTP/1.1\" 200 OK\n",
      "INFO:     127.0.0.1:58678 - \"POST /mcp HTTP/1.1\" 307 Temporary Redirect\n",
      "INFO:     127.0.0.1:58678 - \"POST /mcp/ HTTP/1.1\" 200 OK\n",
      "Converting 123.45 USD to JPY at rate 150.0\n",
      "INFO:     127.0.0.1:58679 - \"POST /mcp HTTP/1.1\" 307 Temporary Redirect\n",
      "INFO:     127.0.0.1:58679 - \"POST /mcp/ HTTP/1.1\" 200 OK\n",
      "INFO:     127.0.0.1:58680 - \"DELETE /mcp HTTP/1.1\" 307 Temporary Redirect\n",
      "INFO:     127.0.0.1:58680 - \"DELETE /mcp/ HTTP/1.1\" 200 OK\n"
     ]
    }
   ],
   "source": [
    "\n",
    "def start_currency_server():\n",
    "    mcp_currency_server = mcp_currency.CurrencyConverterMcpService.mcp\n",
    "    mcp_currency_server.run(\n",
    "        transport=configs.TRANSPORT_TYPE,\n",
    "        host=configs.MCP_HOST,\n",
    "        port=configs.CURRENCY_CONVERTER_PORT,\n",
    "        path=configs.MCP_PATH,\n",
    "        log_level=\"debug\"\n",
    "    )\n",
    "\n",
    "threading.Thread(target=start_currency_server, daemon=True).start()\n",
    "\n"
   ]
  },
  {
   "cell_type": "markdown",
   "id": "f29d6e99",
   "metadata": {},
   "source": []
  },
  {
   "cell_type": "markdown",
   "id": "75885ecc",
   "metadata": {},
   "source": [
    "#### Start the Date Time MCP server"
   ]
  },
  {
   "cell_type": "code",
   "execution_count": null,
   "id": "23c55071",
   "metadata": {},
   "outputs": [
    {
     "name": "stderr",
     "output_type": "stream",
     "text": [
      "INFO:     Started server process [26172]\n",
      "INFO:     Waiting for application startup.\n",
      "INFO:     Application startup complete.\n",
      "INFO:     Uvicorn running on http://127.0.0.1:8011 (Press CTRL+C to quit)\n"
     ]
    },
    {
     "name": "stdout",
     "output_type": "stream",
     "text": [
      "INFO:     127.0.0.1:51154 - \"POST /mcp HTTP/1.1\" 307 Temporary Redirect\n",
      "INFO:     127.0.0.1:51154 - \"POST /mcp/ HTTP/1.1\" 200 OK\n",
      "INFO:     127.0.0.1:51155 - \"POST /mcp HTTP/1.1\" 307 Temporary Redirect\n",
      "INFO:     127.0.0.1:51156 - \"GET /mcp HTTP/1.1\" 307 Temporary Redirect\n",
      "INFO:     127.0.0.1:51155 - \"POST /mcp/ HTTP/1.1\" 202 Accepted\n",
      "INFO:     127.0.0.1:51156 - \"GET /mcp/ HTTP/1.1\" 200 OK\n",
      "INFO:     127.0.0.1:51157 - \"POST /mcp HTTP/1.1\" 307 Temporary Redirect\n",
      "INFO:     127.0.0.1:51157 - \"POST /mcp/ HTTP/1.1\" 200 OK\n",
      "INFO:     127.0.0.1:51158 - \"POST /mcp HTTP/1.1\" 307 Temporary Redirect\n",
      "INFO:     127.0.0.1:51158 - \"POST /mcp/ HTTP/1.1\" 200 OK\n",
      "INFO:     127.0.0.1:51159 - \"DELETE /mcp HTTP/1.1\" 307 Temporary Redirect\n",
      "INFO:     127.0.0.1:51159 - \"DELETE /mcp/ HTTP/1.1\" 200 OK\n",
      "INFO:     127.0.0.1:58683 - \"POST /mcp HTTP/1.1\" 307 Temporary Redirect\n",
      "INFO:     127.0.0.1:58683 - \"POST /mcp/ HTTP/1.1\" 200 OK\n",
      "INFO:     127.0.0.1:58684 - \"POST /mcp HTTP/1.1\" 307 Temporary Redirect\n",
      "INFO:     127.0.0.1:58685 - \"GET /mcp HTTP/1.1\" 307 Temporary Redirect\n",
      "INFO:     127.0.0.1:58684 - \"POST /mcp/ HTTP/1.1\" 202 Accepted\n",
      "INFO:     127.0.0.1:58685 - \"GET /mcp/ HTTP/1.1\" 200 OK\n",
      "INFO:     127.0.0.1:58686 - \"POST /mcp HTTP/1.1\" 307 Temporary Redirect\n",
      "INFO:     127.0.0.1:58686 - \"POST /mcp/ HTTP/1.1\" 200 OK\n",
      "INFO:     127.0.0.1:58687 - \"POST /mcp HTTP/1.1\" 307 Temporary Redirect\n",
      "INFO:     127.0.0.1:58687 - \"POST /mcp/ HTTP/1.1\" 200 OK\n",
      "INFO:     127.0.0.1:58688 - \"DELETE /mcp HTTP/1.1\" 307 Temporary Redirect\n",
      "INFO:     127.0.0.1:58688 - \"DELETE /mcp/ HTTP/1.1\" 200 OK\n"
     ]
    }
   ],
   "source": [
    "def start_datetime_server():\n",
    "    mcp_datetime_server = mcp_datetime.DatetimeCalculatorMcpService.mcp\n",
    "    mcp_datetime_server.run(\n",
    "        transport=configs.TRANSPORT_TYPE,\n",
    "        host=configs.MCP_HOST,\n",
    "        port=configs.DATETIME_CALCULATOR_PORT,\n",
    "        path=configs.MCP_PATH,\n",
    "        log_level=\"debug\",\n",
    "    )\n",
    "\n",
    "threading.Thread(target=start_datetime_server, daemon=True).start()\n"
   ]
  },
  {
   "cell_type": "markdown",
   "id": "ad01b1dd",
   "metadata": {},
   "source": [
    "#### Start Agent B (A2A server)"
   ]
  },
  {
   "cell_type": "code",
   "execution_count": null,
   "id": "6ff27e6b",
   "metadata": {},
   "outputs": [
    {
     "data": {
      "text/html": [
       "<pre style=\"white-space:pre;overflow-x:auto;line-height:normal;font-family:Menlo,'DejaVu Sans Mono',consolas,'Courier New',monospace\">\n",
       "\n",
       "<span style=\"color: #7f7f7f; text-decoration-color: #7f7f7f\">╭─ FastMCP 2.0 ──────────────────────────────────────────────────────────────╮</span>\n",
       "<span style=\"color: #7f7f7f; text-decoration-color: #7f7f7f\">│</span>                                                                            <span style=\"color: #7f7f7f; text-decoration-color: #7f7f7f\">│</span>\n",
       "<span style=\"color: #7f7f7f; text-decoration-color: #7f7f7f\">│</span>    <span style=\"color: #008000; text-decoration-color: #008000; font-weight: bold\">    _ __ ___ ______           __  __  _____________    ____    ____ </span>    <span style=\"color: #7f7f7f; text-decoration-color: #7f7f7f\">│</span>\n",
       "<span style=\"color: #7f7f7f; text-decoration-color: #7f7f7f\">│</span>    <span style=\"color: #008000; text-decoration-color: #008000; font-weight: bold\">   _ __ ___ / ____/___ ______/ /_/  |/  / ____/ __ \\  |___ \\  / __ \\</span>    <span style=\"color: #7f7f7f; text-decoration-color: #7f7f7f\">│</span>\n",
       "<span style=\"color: #7f7f7f; text-decoration-color: #7f7f7f\">│</span>    <span style=\"color: #008000; text-decoration-color: #008000; font-weight: bold\">  _ __ ___ / /_  / __ `/ ___/ __/ /|_/ / /   / /_/ /  ___/ / / / / /</span>    <span style=\"color: #7f7f7f; text-decoration-color: #7f7f7f\">│</span>\n",
       "<span style=\"color: #7f7f7f; text-decoration-color: #7f7f7f\">│</span>    <span style=\"color: #008000; text-decoration-color: #008000; font-weight: bold\"> _ __ ___ / __/ / /_/ (__  ) /_/ /  / / /___/ ____/  /  __/_/ /_/ / </span>    <span style=\"color: #7f7f7f; text-decoration-color: #7f7f7f\">│</span>\n",
       "<span style=\"color: #7f7f7f; text-decoration-color: #7f7f7f\">│</span>    <span style=\"color: #008000; text-decoration-color: #008000; font-weight: bold\">_ __ ___ /_/    \\__,_/____/\\__/_/  /_/\\____/_/      /_____(_)____/  </span>    <span style=\"color: #7f7f7f; text-decoration-color: #7f7f7f\">│</span>\n",
       "<span style=\"color: #7f7f7f; text-decoration-color: #7f7f7f\">│</span>                                                                            <span style=\"color: #7f7f7f; text-decoration-color: #7f7f7f\">│</span>\n",
       "<span style=\"color: #7f7f7f; text-decoration-color: #7f7f7f\">│</span>                                                                            <span style=\"color: #7f7f7f; text-decoration-color: #7f7f7f\">│</span>\n",
       "<span style=\"color: #7f7f7f; text-decoration-color: #7f7f7f\">│</span>                                                                            <span style=\"color: #7f7f7f; text-decoration-color: #7f7f7f\">│</span>\n",
       "<span style=\"color: #7f7f7f; text-decoration-color: #7f7f7f\">│</span>    <span style=\"font-weight: bold\">🖥️  </span><span style=\"color: #008080; text-decoration-color: #008080; font-weight: bold\">Server name:     </span><span style=\"color: #c0c0c0; text-decoration-color: #c0c0c0\">DatetimeMCP              </span>                           <span style=\"color: #7f7f7f; text-decoration-color: #7f7f7f\">│</span>\n",
       "<span style=\"color: #7f7f7f; text-decoration-color: #7f7f7f\">│</span>    <span style=\"font-weight: bold\">📦 </span><span style=\"color: #008080; text-decoration-color: #008080; font-weight: bold\">Transport:       </span><span style=\"color: #c0c0c0; text-decoration-color: #c0c0c0\">Streamable-HTTP          </span>                           <span style=\"color: #7f7f7f; text-decoration-color: #7f7f7f\">│</span>\n",
       "<span style=\"color: #7f7f7f; text-decoration-color: #7f7f7f\">│</span>    <span style=\"font-weight: bold\">🔗 </span><span style=\"color: #008080; text-decoration-color: #008080; font-weight: bold\">Server URL:      </span><span style=\"color: #c0c0c0; text-decoration-color: #c0c0c0\">http://127.0.0.1:8011/mcp</span>                           <span style=\"color: #7f7f7f; text-decoration-color: #7f7f7f\">│</span>\n",
       "<span style=\"color: #7f7f7f; text-decoration-color: #7f7f7f\">│</span>    <span style=\"font-weight: bold\">   </span><span style=\"color: #008080; text-decoration-color: #008080; font-weight: bold\">                 </span><span style=\"color: #c0c0c0; text-decoration-color: #c0c0c0\">                         </span>                           <span style=\"color: #7f7f7f; text-decoration-color: #7f7f7f\">│</span>\n",
       "<span style=\"color: #7f7f7f; text-decoration-color: #7f7f7f\">│</span>    <span style=\"font-weight: bold\">📚 </span><span style=\"color: #008080; text-decoration-color: #008080; font-weight: bold\">Docs:            </span><span style=\"color: #c0c0c0; text-decoration-color: #c0c0c0\">https://gofastmcp.com    </span>                           <span style=\"color: #7f7f7f; text-decoration-color: #7f7f7f\">│</span>\n",
       "<span style=\"color: #7f7f7f; text-decoration-color: #7f7f7f\">│</span>    <span style=\"font-weight: bold\">🚀 </span><span style=\"color: #008080; text-decoration-color: #008080; font-weight: bold\">Deploy:          </span><span style=\"color: #c0c0c0; text-decoration-color: #c0c0c0\">https://fastmcp.cloud    </span>                           <span style=\"color: #7f7f7f; text-decoration-color: #7f7f7f\">│</span>\n",
       "<span style=\"color: #7f7f7f; text-decoration-color: #7f7f7f\">│</span>    <span style=\"font-weight: bold\">   </span><span style=\"color: #008080; text-decoration-color: #008080; font-weight: bold\">                 </span><span style=\"color: #c0c0c0; text-decoration-color: #c0c0c0\">                         </span>                           <span style=\"color: #7f7f7f; text-decoration-color: #7f7f7f\">│</span>\n",
       "<span style=\"color: #7f7f7f; text-decoration-color: #7f7f7f\">│</span>    <span style=\"font-weight: bold\">🏎️  </span><span style=\"color: #008080; text-decoration-color: #008080; font-weight: bold\">FastMCP version: </span><span style=\"color: #dfdfdf; text-decoration-color: #dfdfdf\">2.11.2                   </span>                           <span style=\"color: #7f7f7f; text-decoration-color: #7f7f7f\">│</span>\n",
       "<span style=\"color: #7f7f7f; text-decoration-color: #7f7f7f\">│</span>    <span style=\"font-weight: bold\">🤝 </span><span style=\"color: #008080; text-decoration-color: #008080; font-weight: bold\">MCP version:     </span><span style=\"color: #dfdfdf; text-decoration-color: #dfdfdf\">1.12.4                   </span>                           <span style=\"color: #7f7f7f; text-decoration-color: #7f7f7f\">│</span>\n",
       "<span style=\"color: #7f7f7f; text-decoration-color: #7f7f7f\">│</span>                                                                            <span style=\"color: #7f7f7f; text-decoration-color: #7f7f7f\">│</span>\n",
       "<span style=\"color: #7f7f7f; text-decoration-color: #7f7f7f\">╰────────────────────────────────────────────────────────────────────────────╯</span>\n",
       "\n",
       "\n",
       "</pre>\n"
      ],
      "text/plain": [
       "\n",
       "\n",
       "\u001b[2m╭─\u001b[0m\u001b[2m FastMCP 2.0 \u001b[0m\u001b[2m─────────────────────────────────────────────────────────────\u001b[0m\u001b[2m─╮\u001b[0m\n",
       "\u001b[2m│\u001b[0m                                                                            \u001b[2m│\u001b[0m\n",
       "\u001b[2m│\u001b[0m    \u001b[1;32m    _ __ ___ ______           __  __  _____________    ____    ____ \u001b[0m    \u001b[2m│\u001b[0m\n",
       "\u001b[2m│\u001b[0m    \u001b[1;32m   _ __ ___ / ____/___ ______/ /_/  |/  / ____/ __ \\  |___ \\  / __ \\\u001b[0m    \u001b[2m│\u001b[0m\n",
       "\u001b[2m│\u001b[0m    \u001b[1;32m  _ __ ___ / /_  / __ `/ ___/ __/ /|_/ / /   / /_/ /  ___/ / / / / /\u001b[0m    \u001b[2m│\u001b[0m\n",
       "\u001b[2m│\u001b[0m    \u001b[1;32m _ __ ___ / __/ / /_/ (__  ) /_/ /  / / /___/ ____/  /  __/_/ /_/ / \u001b[0m    \u001b[2m│\u001b[0m\n",
       "\u001b[2m│\u001b[0m    \u001b[1;32m_ __ ___ /_/    \\__,_/____/\\__/_/  /_/\\____/_/      /_____(_)____/  \u001b[0m    \u001b[2m│\u001b[0m\n",
       "\u001b[2m│\u001b[0m                                                                            \u001b[2m│\u001b[0m\n",
       "\u001b[2m│\u001b[0m                                                                            \u001b[2m│\u001b[0m\n",
       "\u001b[2m│\u001b[0m                                                                            \u001b[2m│\u001b[0m\n",
       "\u001b[2m│\u001b[0m    \u001b[1m🖥️ \u001b[0m\u001b[1m \u001b[0m\u001b[1;36mServer name:    \u001b[0m\u001b[1;36m \u001b[0m\u001b[37mDatetimeMCP              \u001b[0m                           \u001b[2m│\u001b[0m\n",
       "\u001b[2m│\u001b[0m    \u001b[1m📦\u001b[0m\u001b[1m \u001b[0m\u001b[1;36mTransport:      \u001b[0m\u001b[1;36m \u001b[0m\u001b[37mStreamable-HTTP          \u001b[0m                           \u001b[2m│\u001b[0m\n",
       "\u001b[2m│\u001b[0m    \u001b[1m🔗\u001b[0m\u001b[1m \u001b[0m\u001b[1;36mServer URL:     \u001b[0m\u001b[1;36m \u001b[0m\u001b[37mhttp://127.0.0.1:8011/mcp\u001b[0m                           \u001b[2m│\u001b[0m\n",
       "\u001b[2m│\u001b[0m    \u001b[1m  \u001b[0m\u001b[1m \u001b[0m\u001b[1;36m                \u001b[0m\u001b[1;36m \u001b[0m\u001b[37m                         \u001b[0m                           \u001b[2m│\u001b[0m\n",
       "\u001b[2m│\u001b[0m    \u001b[1m📚\u001b[0m\u001b[1m \u001b[0m\u001b[1;36mDocs:           \u001b[0m\u001b[1;36m \u001b[0m\u001b[37mhttps://gofastmcp.com    \u001b[0m                           \u001b[2m│\u001b[0m\n",
       "\u001b[2m│\u001b[0m    \u001b[1m🚀\u001b[0m\u001b[1m \u001b[0m\u001b[1;36mDeploy:         \u001b[0m\u001b[1;36m \u001b[0m\u001b[37mhttps://fastmcp.cloud    \u001b[0m                           \u001b[2m│\u001b[0m\n",
       "\u001b[2m│\u001b[0m    \u001b[1m  \u001b[0m\u001b[1m \u001b[0m\u001b[1;36m                \u001b[0m\u001b[1;36m \u001b[0m\u001b[37m                         \u001b[0m                           \u001b[2m│\u001b[0m\n",
       "\u001b[2m│\u001b[0m    \u001b[1m🏎️ \u001b[0m\u001b[1m \u001b[0m\u001b[1;36mFastMCP version:\u001b[0m\u001b[1;36m \u001b[0m\u001b[2;37m2.11.2                   \u001b[0m                           \u001b[2m│\u001b[0m\n",
       "\u001b[2m│\u001b[0m    \u001b[1m🤝\u001b[0m\u001b[1m \u001b[0m\u001b[1;36mMCP version:    \u001b[0m\u001b[1;36m \u001b[0m\u001b[2;37m1.12.4                   \u001b[0m                           \u001b[2m│\u001b[0m\n",
       "\u001b[2m│\u001b[0m                                                                            \u001b[2m│\u001b[0m\n",
       "\u001b[2m╰────────────────────────────────────────────────────────────────────────────╯\u001b[0m\n",
       "\n",
       "\n"
      ]
     },
     "metadata": {},
     "output_type": "display_data"
    },
    {
     "data": {
      "text/html": [
       "<pre style=\"white-space:pre;overflow-x:auto;line-height:normal;font-family:Menlo,'DejaVu Sans Mono',consolas,'Courier New',monospace\"><span style=\"color: #7fbfbf; text-decoration-color: #7fbfbf\">[08/21/25 18:18:58] </span><span style=\"color: #000080; text-decoration-color: #000080\">INFO    </span> Starting MCP server <span style=\"color: #008000; text-decoration-color: #008000\">'CurrencyMCP'</span> with transport <span style=\"color: #008000; text-decoration-color: #008000\">'http'</span> on              <a href=\"file://c:\\Development\\Python\\AI\\GenerativeAI\\agent-2-agent\\a2a-simple-demo-oop-version\\.venv\\Lib\\site-packages\\fastmcp\\server\\server.py\" target=\"_blank\"><span style=\"color: #7f7f7f; text-decoration-color: #7f7f7f\">server.py</span></a><span style=\"color: #7f7f7f; text-decoration-color: #7f7f7f\">:</span><a href=\"file://c:\\Development\\Python\\AI\\GenerativeAI\\agent-2-agent\\a2a-simple-demo-oop-version\\.venv\\Lib\\site-packages\\fastmcp\\server\\server.py#1522\" target=\"_blank\"><span style=\"color: #7f7f7f; text-decoration-color: #7f7f7f\">1522</span></a>\n",
       "<span style=\"color: #7fbfbf; text-decoration-color: #7fbfbf\">                    </span>         <span style=\"color: #0000ff; text-decoration-color: #0000ff; text-decoration: underline\">http://127.0.0.1:8010/mcp</span>                                               <span style=\"color: #7f7f7f; text-decoration-color: #7f7f7f\">              </span>\n",
       "</pre>\n"
      ],
      "text/plain": [
       "\u001b[2;36m[08/21/25 18:18:58]\u001b[0m\u001b[2;36m \u001b[0m\u001b[34mINFO    \u001b[0m Starting MCP server \u001b[32m'CurrencyMCP'\u001b[0m with transport \u001b[32m'http'\u001b[0m on              \u001b]8;id=894056;file://c:\\Development\\Python\\AI\\GenerativeAI\\agent-2-agent\\a2a-simple-demo-oop-version\\.venv\\Lib\\site-packages\\fastmcp\\server\\server.py\u001b\\\u001b[2mserver.py\u001b[0m\u001b]8;;\u001b\\\u001b[2m:\u001b[0m\u001b]8;id=673445;file://c:\\Development\\Python\\AI\\GenerativeAI\\agent-2-agent\\a2a-simple-demo-oop-version\\.venv\\Lib\\site-packages\\fastmcp\\server\\server.py#1522\u001b\\\u001b[2m1522\u001b[0m\u001b]8;;\u001b\\\n",
       "\u001b[2;36m                    \u001b[0m         \u001b[4;94mhttp://127.0.0.1:8010/mcp\u001b[0m                                               \u001b[2m              \u001b[0m\n"
      ]
     },
     "metadata": {},
     "output_type": "display_data"
    },
    {
     "data": {
      "text/html": [
       "<pre style=\"white-space:pre;overflow-x:auto;line-height:normal;font-family:Menlo,'DejaVu Sans Mono',consolas,'Courier New',monospace\"><span style=\"color: #7fbfbf; text-decoration-color: #7fbfbf\">                    </span><span style=\"color: #000080; text-decoration-color: #000080\">INFO    </span> Starting MCP server <span style=\"color: #008000; text-decoration-color: #008000\">'DatetimeMCP'</span> with transport <span style=\"color: #008000; text-decoration-color: #008000\">'http'</span> on              <a href=\"file://c:\\Development\\Python\\AI\\GenerativeAI\\agent-2-agent\\a2a-simple-demo-oop-version\\.venv\\Lib\\site-packages\\fastmcp\\server\\server.py\" target=\"_blank\"><span style=\"color: #7f7f7f; text-decoration-color: #7f7f7f\">server.py</span></a><span style=\"color: #7f7f7f; text-decoration-color: #7f7f7f\">:</span><a href=\"file://c:\\Development\\Python\\AI\\GenerativeAI\\agent-2-agent\\a2a-simple-demo-oop-version\\.venv\\Lib\\site-packages\\fastmcp\\server\\server.py#1522\" target=\"_blank\"><span style=\"color: #7f7f7f; text-decoration-color: #7f7f7f\">1522</span></a>\n",
       "<span style=\"color: #7fbfbf; text-decoration-color: #7fbfbf\">                    </span>         <span style=\"color: #0000ff; text-decoration-color: #0000ff; text-decoration: underline\">http://127.0.0.1:8011/mcp</span>                                               <span style=\"color: #7f7f7f; text-decoration-color: #7f7f7f\">              </span>\n",
       "</pre>\n"
      ],
      "text/plain": [
       "\u001b[2;36m                   \u001b[0m\u001b[2;36m \u001b[0m\u001b[34mINFO    \u001b[0m Starting MCP server \u001b[32m'DatetimeMCP'\u001b[0m with transport \u001b[32m'http'\u001b[0m on              \u001b]8;id=119871;file://c:\\Development\\Python\\AI\\GenerativeAI\\agent-2-agent\\a2a-simple-demo-oop-version\\.venv\\Lib\\site-packages\\fastmcp\\server\\server.py\u001b\\\u001b[2mserver.py\u001b[0m\u001b]8;;\u001b\\\u001b[2m:\u001b[0m\u001b]8;id=771944;file://c:\\Development\\Python\\AI\\GenerativeAI\\agent-2-agent\\a2a-simple-demo-oop-version\\.venv\\Lib\\site-packages\\fastmcp\\server\\server.py#1522\u001b\\\u001b[2m1522\u001b[0m\u001b]8;;\u001b\\\n",
       "\u001b[2;36m                    \u001b[0m         \u001b[4;94mhttp://127.0.0.1:8011/mcp\u001b[0m                                               \u001b[2m              \u001b[0m\n"
      ]
     },
     "metadata": {},
     "output_type": "display_data"
    },
    {
     "name": "stderr",
     "output_type": "stream",
     "text": [
      "INFO:     Started server process [26172]\n",
      "INFO:     Waiting for application startup.\n",
      "INFO:     Application startup complete.\n",
      "INFO:     Uvicorn running on http://127.0.0.1:9010 (Press CTRL+C to quit)\n"
     ]
    },
    {
     "name": "stdout",
     "output_type": "stream",
     "text": [
      "INFO:     127.0.0.1:51146 - \"POST /a2a/message HTTP/1.1\" 200 OK\n",
      "INFO:     127.0.0.1:58674 - \"POST /a2a/message HTTP/1.1\" 200 OK\n"
     ]
    }
   ],
   "source": [
    "def start_agent_B_server():\n",
    "    agent_b.AgentB.start_agent_b()\n",
    "\n",
    "threading.Thread(target=start_agent_B_server, daemon=True).start()"
   ]
  },
  {
   "cell_type": "markdown",
   "id": "a4a2d2c8",
   "metadata": {},
   "source": [
    "#### Start Agent A (A2A client)"
   ]
  },
  {
   "cell_type": "code",
   "execution_count": null,
   "id": "0acdc80b",
   "metadata": {},
   "outputs": [
    {
     "name": "stdout",
     "output_type": "stream",
     "text": [
      "Starting Agent A...\n",
      "Calling Agent B with payload:\n",
      "{'task_convert_currency': {'amount': 123.45, 'from': 'USD', 'to': 'JPY'},\n",
      " 'task_get_current_datetime': {'timezone': 'UTC'}}\n"
     ]
    },
    {
     "name": "stdout",
     "output_type": "stream",
     "text": [
      "\n",
      "\n",
      "\n",
      "Currency Conversion Response for 123.45 from USD to JPY:\n",
      "{'converted': 18517.5, 'rate': 150.0}\n",
      "--------------------------------------------------------------------------------\n",
      "\n",
      "\n",
      "Datetime Timezone Calculation for UTC is:\n",
      "{'result': '2025-08-21T17:19:32.454525+00:00'}\n",
      "--------------------------------------------------------------------------------\n",
      "\n",
      "\n"
     ]
    }
   ],
   "source": [
    "def start_agent_A_server():\n",
    "    \"\"\" \n",
    "    Starts Agent A with a sample tasks \n",
    "    \"\"\"\n",
    "    agent_a.AgentA.start_agent_a(\n",
    "        amount=123.45, \n",
    "        from_currency=\"USD\", \n",
    "        to_currency=\"JPY\",\n",
    "        timezone=\"UTC\"\n",
    "    )\n",
    "\n",
    "threading.Thread(target=start_agent_A_server, daemon=True).start()"
   ]
  },
  {
   "cell_type": "code",
   "execution_count": null,
   "id": "94dc2e11",
   "metadata": {},
   "outputs": [],
   "source": []
  }
 ],
 "metadata": {
  "kernelspec": {
   "display_name": "a2a-simple-demo",
   "language": "python",
   "name": "python3"
  },
  "language_info": {
   "codemirror_mode": {
    "name": "ipython",
    "version": 3
   },
   "file_extension": ".py",
   "mimetype": "text/x-python",
   "name": "python",
   "nbconvert_exporter": "python",
   "pygments_lexer": "ipython3",
   "version": "3.12.11"
  }
 },
 "nbformat": 4,
 "nbformat_minor": 5
}

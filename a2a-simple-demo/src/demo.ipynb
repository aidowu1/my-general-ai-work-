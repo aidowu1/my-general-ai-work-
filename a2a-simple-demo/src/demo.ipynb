{
 "cells": [
  {
   "cell_type": "markdown",
   "id": "6772e83a",
   "metadata": {},
   "source": [
    "## Demo A2A\n",
    "The workflow is:\n",
    " - We have 2 agents A and B interoperating with each other\n",
    " - Agent A is a client agent\n",
    " - Agent B is a server agent\n",
    " - Agent B also acts as client that calls 2 MCP servers to do a specific task (on-behalf of A):\n",
    "   - Date Time MCP server\n",
    "   - Currency Conversion MCP Server\n",
    " - Agent A calls Agent B to perform a number the 2 tasks (facilitated by the MCP tools) over Google's A2A protocol\n"
   ]
  },
  {
   "cell_type": "markdown",
   "id": "7541796c",
   "metadata": {},
   "source": [
    "#### Library imports"
   ]
  },
  {
   "cell_type": "code",
   "execution_count": 1,
   "id": "de4c216f",
   "metadata": {},
   "outputs": [],
   "source": [
    "import nest_asyncio\n",
    "import asyncio\n",
    "import threading\n",
    "\n",
    "import mcp_currency_server as mcp_currency\n",
    "import mcp_datetime_server as mcp_datetime\n",
    "import agent_a\n",
    "import agent_b\n",
    "\n"
   ]
  },
  {
   "cell_type": "markdown",
   "id": "a941c2b8",
   "metadata": {},
   "source": [
    "#### Start the Currency Conversion MCP server"
   ]
  },
  {
   "cell_type": "code",
   "execution_count": null,
   "id": "78e6bf62",
   "metadata": {},
   "outputs": [
    {
     "name": "stderr",
     "output_type": "stream",
     "text": [
      "\n",
      "\n",
      "\u001b[2m┌─\u001b[0m\u001b[2m FastMCP 2.0 \u001b[0m\u001b[2m─────────────────────────────────────────────────────────────\u001b[0m\u001b[2m─┐\u001b[0m\n",
      "\u001b[2m│\u001b[0m                                                                            \u001b[2m│\u001b[0m\n",
      "\u001b[2m│\u001b[0m    \u001b[1;32m    _ __ ___ ______           __  __  _____________    ____    ____ \u001b[0m    \u001b[2m│\u001b[0m\n",
      "\u001b[2m│\u001b[0m    \u001b[1;32m   _ __ ___ / ____/___ ______/ /_/  |/  / ____/ __ \\  |___ \\  / __ \\\u001b[0m    \u001b[2m│\u001b[0m\n",
      "\u001b[2m│\u001b[0m    \u001b[1;32m  _ __ ___ / /_  / __ `/ ___/ __/ /|_/ / /   / /_/ /  ___/ / / / / /\u001b[0m    \u001b[2m│\u001b[0m\n",
      "\u001b[2m│\u001b[0m    \u001b[1;32m _ __ ___ / __/ / /_/ (__  ) /_/ /  / / /___/ ____/  /  __/_/ /_/ / \u001b[0m    \u001b[2m│\u001b[0m\n",
      "\u001b[2m│\u001b[0m    \u001b[1;32m_ __ ___ /_/    \\__,_/____/\\__/_/  /_/\\____/_/      /_____(_)____/  \u001b[0m    \u001b[2m│\u001b[0m\n",
      "\u001b[2m│\u001b[0m                                                                            \u001b[2m│\u001b[0m\n",
      "\u001b[2m│\u001b[0m                                                                            \u001b[2m│\u001b[0m\n",
      "\u001b[2m│\u001b[0m                                                                            \u001b[2m│\u001b[0m\n",
      "\u001b[2m│\u001b[0m    \u001b[1m🖥️ \u001b[0m\u001b[1m \u001b[0m\u001b[1;36mServer name:    \u001b[0m\u001b[1;36m \u001b[0m\u001b[37mCurrencyMCP              \u001b[0m                           \u001b[2m│\u001b[0m\n",
      "\u001b[2m│\u001b[0m    \u001b[1m📦\u001b[0m\u001b[1m \u001b[0m\u001b[1;36mTransport:      \u001b[0m\u001b[1;36m \u001b[0m\u001b[37mStreamable-HTTP          \u001b[0m                           \u001b[2m│\u001b[0m\n",
      "\u001b[2m│\u001b[0m    \u001b[1m🔗\u001b[0m\u001b[1m \u001b[0m\u001b[1;36mServer URL:     \u001b[0m\u001b[1;36m \u001b[0m\u001b[37mhttp://127.0.0.1:8001/mcp\u001b[0m                           \u001b[2m│\u001b[0m\n",
      "\u001b[2m│\u001b[0m    \u001b[1m  \u001b[0m\u001b[1m \u001b[0m\u001b[1;36m                \u001b[0m\u001b[1;36m \u001b[0m\u001b[37m                         \u001b[0m                           \u001b[2m│\u001b[0m\n",
      "\u001b[2m│\u001b[0m    \u001b[1m📚\u001b[0m\u001b[1m \u001b[0m\u001b[1;36mDocs:           \u001b[0m\u001b[1;36m \u001b[0m\u001b[37mhttps://gofastmcp.com    \u001b[0m                           \u001b[2m│\u001b[0m\n",
      "\u001b[2m│\u001b[0m    \u001b[1m🚀\u001b[0m\u001b[1m \u001b[0m\u001b[1;36mDeploy:         \u001b[0m\u001b[1;36m \u001b[0m\u001b[37mhttps://fastmcp.cloud    \u001b[0m                           \u001b[2m│\u001b[0m\n",
      "\u001b[2m│\u001b[0m    \u001b[1m  \u001b[0m\u001b[1m \u001b[0m\u001b[1;36m                \u001b[0m\u001b[1;36m \u001b[0m\u001b[37m                         \u001b[0m                           \u001b[2m│\u001b[0m\n",
      "\u001b[2m│\u001b[0m    \u001b[1m🏎️ \u001b[0m\u001b[1m \u001b[0m\u001b[1;36mFastMCP version:\u001b[0m\u001b[1;36m \u001b[0m\u001b[2;37m2.11.2                   \u001b[0m                           \u001b[2m│\u001b[0m\n",
      "\u001b[2m│\u001b[0m    \u001b[1m🤝\u001b[0m\u001b[1m \u001b[0m\u001b[1;36mMCP version:    \u001b[0m\u001b[1;36m \u001b[0m\u001b[2;37m1.12.4                   \u001b[0m                           \u001b[2m│\u001b[0m\n",
      "\u001b[2m│\u001b[0m                                                                            \u001b[2m│\u001b[0m\n",
      "\u001b[2m└────────────────────────────────────────────────────────────────────────────┘\u001b[0m\n",
      "\n",
      "\n"
     ]
    },
    {
     "data": {
      "text/html": [
       "<pre style=\"white-space:pre;overflow-x:auto;line-height:normal;font-family:Menlo,'DejaVu Sans Mono',consolas,'Courier New',monospace\"><span style=\"color: #7fbfbf; text-decoration-color: #7fbfbf\">[08/18/25 18:17:23] </span><span style=\"color: #000080; text-decoration-color: #000080\">INFO    </span> Starting MCP server <span style=\"color: #008000; text-decoration-color: #008000\">'CurrencyMCP'</span> with transport <span style=\"color: #008000; text-decoration-color: #008000\">'http'</span> on              <a href=\"file://c:\\Development\\Python\\AI\\GenerativeAI\\agent-2-agent\\a2a-simple-demo\\.venv\\Lib\\site-packages\\fastmcp\\server\\server.py\" target=\"_blank\"><span style=\"color: #7f7f7f; text-decoration-color: #7f7f7f\">server.py</span></a><span style=\"color: #7f7f7f; text-decoration-color: #7f7f7f\">:</span><a href=\"file://c:\\Development\\Python\\AI\\GenerativeAI\\agent-2-agent\\a2a-simple-demo\\.venv\\Lib\\site-packages\\fastmcp\\server\\server.py#1522\" target=\"_blank\"><span style=\"color: #7f7f7f; text-decoration-color: #7f7f7f\">1522</span></a>\n",
       "<span style=\"color: #7fbfbf; text-decoration-color: #7fbfbf\">                    </span>         <span style=\"color: #0000ff; text-decoration-color: #0000ff; text-decoration: underline\">http://127.0.0.1:8001/mcp</span>                                               <span style=\"color: #7f7f7f; text-decoration-color: #7f7f7f\">              </span>\n",
       "</pre>\n"
      ],
      "text/plain": [
       "\u001b[2;36m[08/18/25 18:17:23]\u001b[0m\u001b[2;36m \u001b[0m\u001b[34mINFO    \u001b[0m Starting MCP server \u001b[32m'CurrencyMCP'\u001b[0m with transport \u001b[32m'http'\u001b[0m on              \u001b]8;id=909621;file://c:\\Development\\Python\\AI\\GenerativeAI\\agent-2-agent\\a2a-simple-demo\\.venv\\Lib\\site-packages\\fastmcp\\server\\server.py\u001b\\\u001b[2mserver.py\u001b[0m\u001b]8;;\u001b\\\u001b[2m:\u001b[0m\u001b]8;id=364487;file://c:\\Development\\Python\\AI\\GenerativeAI\\agent-2-agent\\a2a-simple-demo\\.venv\\Lib\\site-packages\\fastmcp\\server\\server.py#1522\u001b\\\u001b[2m1522\u001b[0m\u001b]8;;\u001b\\\n",
       "\u001b[2;36m                    \u001b[0m         \u001b[4;94mhttp://127.0.0.1:8001/mcp\u001b[0m                                               \u001b[2m              \u001b[0m\n"
      ]
     },
     "metadata": {},
     "output_type": "display_data"
    },
    {
     "name": "stderr",
     "output_type": "stream",
     "text": [
      "INFO:     Started server process [9528]\n",
      "INFO:     Waiting for application startup.\n",
      "INFO:     Application startup complete.\n",
      "INFO:     Uvicorn running on http://127.0.0.1:8001 (Press CTRL+C to quit)\n"
     ]
    },
    {
     "name": "stdout",
     "output_type": "stream",
     "text": [
      "INFO:     127.0.0.1:55766 - \"POST /mcp HTTP/1.1\" 307 Temporary Redirect\n",
      "INFO:     127.0.0.1:55766 - \"POST /mcp/ HTTP/1.1\" 200 OK\n",
      "INFO:     127.0.0.1:55767 - \"POST /mcp HTTP/1.1\" 307 Temporary Redirect\n",
      "INFO:     127.0.0.1:55768 - \"GET /mcp HTTP/1.1\" 307 Temporary Redirect\n",
      "INFO:     127.0.0.1:55767 - \"POST /mcp/ HTTP/1.1\" 202 Accepted\n",
      "INFO:     127.0.0.1:55768 - \"GET /mcp/ HTTP/1.1\" 200 OK\n",
      "INFO:     127.0.0.1:55769 - \"POST /mcp HTTP/1.1\" 307 Temporary Redirect\n",
      "INFO:     127.0.0.1:55769 - \"POST /mcp/ HTTP/1.1\" 200 OK\n",
      "INFO:     127.0.0.1:55770 - \"POST /mcp HTTP/1.1\" 307 Temporary Redirect\n",
      "INFO:     127.0.0.1:55770 - \"POST /mcp/ HTTP/1.1\" 200 OK\n",
      "INFO:     127.0.0.1:55771 - \"DELETE /mcp HTTP/1.1\" 307 Temporary Redirect\n",
      "INFO:     127.0.0.1:55771 - \"DELETE /mcp/ HTTP/1.1\" 200 OK\n"
     ]
    }
   ],
   "source": [
    "\n",
    "def start_currency_server():\n",
    "    mcp_currency_server = mcp_currency.mcp\n",
    "    mcp_currency_server.run(\n",
    "        transport=\"http\",\n",
    "        host=\"127.0.0.1\",\n",
    "        port=8001,\n",
    "        path=\"/mcp\",\n",
    "        log_level=\"debug\"\n",
    "    )\n",
    "\n",
    "threading.Thread(target=start_currency_server, daemon=True).start()\n",
    "\n"
   ]
  },
  {
   "cell_type": "markdown",
   "id": "f29d6e99",
   "metadata": {},
   "source": []
  },
  {
   "cell_type": "markdown",
   "id": "75885ecc",
   "metadata": {},
   "source": [
    "#### Start the Date Time MCP server"
   ]
  },
  {
   "cell_type": "code",
   "execution_count": null,
   "id": "23c55071",
   "metadata": {},
   "outputs": [
    {
     "name": "stderr",
     "output_type": "stream",
     "text": [
      "\n",
      "\n",
      "\u001b[2m┌─\u001b[0m\u001b[2m FastMCP 2.0 \u001b[0m\u001b[2m─────────────────────────────────────────────────────────────\u001b[0m\u001b[2m─┐\u001b[0m\n",
      "\u001b[2m│\u001b[0m                                                                            \u001b[2m│\u001b[0m\n",
      "\u001b[2m│\u001b[0m    \u001b[1;32m    _ __ ___ ______           __  __  _____________    ____    ____ \u001b[0m    \u001b[2m│\u001b[0m\n",
      "\u001b[2m│\u001b[0m    \u001b[1;32m   _ __ ___ / ____/___ ______/ /_/  |/  / ____/ __ \\  |___ \\  / __ \\\u001b[0m    \u001b[2m│\u001b[0m\n",
      "\u001b[2m│\u001b[0m    \u001b[1;32m  _ __ ___ / /_  / __ `/ ___/ __/ /|_/ / /   / /_/ /  ___/ / / / / /\u001b[0m    \u001b[2m│\u001b[0m\n",
      "\u001b[2m│\u001b[0m    \u001b[1;32m _ __ ___ / __/ / /_/ (__  ) /_/ /  / / /___/ ____/  /  __/_/ /_/ / \u001b[0m    \u001b[2m│\u001b[0m\n",
      "\u001b[2m│\u001b[0m    \u001b[1;32m_ __ ___ /_/    \\__,_/____/\\__/_/  /_/\\____/_/      /_____(_)____/  \u001b[0m    \u001b[2m│\u001b[0m\n",
      "\u001b[2m│\u001b[0m                                                                            \u001b[2m│\u001b[0m\n",
      "\u001b[2m│\u001b[0m                                                                            \u001b[2m│\u001b[0m\n",
      "\u001b[2m│\u001b[0m                                                                            \u001b[2m│\u001b[0m\n",
      "\u001b[2m│\u001b[0m    \u001b[1m🖥️ \u001b[0m\u001b[1m \u001b[0m\u001b[1;36mServer name:    \u001b[0m\u001b[1;36m \u001b[0m\u001b[37mDatetimeMCP              \u001b[0m                           \u001b[2m│\u001b[0m\n",
      "\u001b[2m│\u001b[0m    \u001b[1m📦\u001b[0m\u001b[1m \u001b[0m\u001b[1;36mTransport:      \u001b[0m\u001b[1;36m \u001b[0m\u001b[37mStreamable-HTTP          \u001b[0m                           \u001b[2m│\u001b[0m\n",
      "\u001b[2m│\u001b[0m    \u001b[1m🔗\u001b[0m\u001b[1m \u001b[0m\u001b[1;36mServer URL:     \u001b[0m\u001b[1;36m \u001b[0m\u001b[37mhttp://127.0.0.1:8002/mcp\u001b[0m                           \u001b[2m│\u001b[0m\n",
      "\u001b[2m│\u001b[0m    \u001b[1m  \u001b[0m\u001b[1m \u001b[0m\u001b[1;36m                \u001b[0m\u001b[1;36m \u001b[0m\u001b[37m                         \u001b[0m                           \u001b[2m│\u001b[0m\n",
      "\u001b[2m│\u001b[0m    \u001b[1m📚\u001b[0m\u001b[1m \u001b[0m\u001b[1;36mDocs:           \u001b[0m\u001b[1;36m \u001b[0m\u001b[37mhttps://gofastmcp.com    \u001b[0m                           \u001b[2m│\u001b[0m\n",
      "\u001b[2m│\u001b[0m    \u001b[1m🚀\u001b[0m\u001b[1m \u001b[0m\u001b[1;36mDeploy:         \u001b[0m\u001b[1;36m \u001b[0m\u001b[37mhttps://fastmcp.cloud    \u001b[0m                           \u001b[2m│\u001b[0m\n",
      "\u001b[2m│\u001b[0m    \u001b[1m  \u001b[0m\u001b[1m \u001b[0m\u001b[1;36m                \u001b[0m\u001b[1;36m \u001b[0m\u001b[37m                         \u001b[0m                           \u001b[2m│\u001b[0m\n",
      "\u001b[2m│\u001b[0m    \u001b[1m🏎️ \u001b[0m\u001b[1m \u001b[0m\u001b[1;36mFastMCP version:\u001b[0m\u001b[1;36m \u001b[0m\u001b[2;37m2.11.2                   \u001b[0m                           \u001b[2m│\u001b[0m\n",
      "\u001b[2m│\u001b[0m    \u001b[1m🤝\u001b[0m\u001b[1m \u001b[0m\u001b[1;36mMCP version:    \u001b[0m\u001b[1;36m \u001b[0m\u001b[2;37m1.12.4                   \u001b[0m                           \u001b[2m│\u001b[0m\n",
      "\u001b[2m│\u001b[0m                                                                            \u001b[2m│\u001b[0m\n",
      "\u001b[2m└────────────────────────────────────────────────────────────────────────────┘\u001b[0m\n",
      "\n",
      "\n"
     ]
    },
    {
     "data": {
      "text/html": [
       "<pre style=\"white-space:pre;overflow-x:auto;line-height:normal;font-family:Menlo,'DejaVu Sans Mono',consolas,'Courier New',monospace\"><span style=\"color: #7fbfbf; text-decoration-color: #7fbfbf\">[08/18/25 18:17:26] </span><span style=\"color: #000080; text-decoration-color: #000080\">INFO    </span> Starting MCP server <span style=\"color: #008000; text-decoration-color: #008000\">'DatetimeMCP'</span> with transport <span style=\"color: #008000; text-decoration-color: #008000\">'http'</span> on              <a href=\"file://c:\\Development\\Python\\AI\\GenerativeAI\\agent-2-agent\\a2a-simple-demo\\.venv\\Lib\\site-packages\\fastmcp\\server\\server.py\" target=\"_blank\"><span style=\"color: #7f7f7f; text-decoration-color: #7f7f7f\">server.py</span></a><span style=\"color: #7f7f7f; text-decoration-color: #7f7f7f\">:</span><a href=\"file://c:\\Development\\Python\\AI\\GenerativeAI\\agent-2-agent\\a2a-simple-demo\\.venv\\Lib\\site-packages\\fastmcp\\server\\server.py#1522\" target=\"_blank\"><span style=\"color: #7f7f7f; text-decoration-color: #7f7f7f\">1522</span></a>\n",
       "<span style=\"color: #7fbfbf; text-decoration-color: #7fbfbf\">                    </span>         <span style=\"color: #0000ff; text-decoration-color: #0000ff; text-decoration: underline\">http://127.0.0.1:8002/mcp</span>                                               <span style=\"color: #7f7f7f; text-decoration-color: #7f7f7f\">              </span>\n",
       "</pre>\n"
      ],
      "text/plain": [
       "\u001b[2;36m[08/18/25 18:17:26]\u001b[0m\u001b[2;36m \u001b[0m\u001b[34mINFO    \u001b[0m Starting MCP server \u001b[32m'DatetimeMCP'\u001b[0m with transport \u001b[32m'http'\u001b[0m on              \u001b]8;id=797899;file://c:\\Development\\Python\\AI\\GenerativeAI\\agent-2-agent\\a2a-simple-demo\\.venv\\Lib\\site-packages\\fastmcp\\server\\server.py\u001b\\\u001b[2mserver.py\u001b[0m\u001b]8;;\u001b\\\u001b[2m:\u001b[0m\u001b]8;id=579775;file://c:\\Development\\Python\\AI\\GenerativeAI\\agent-2-agent\\a2a-simple-demo\\.venv\\Lib\\site-packages\\fastmcp\\server\\server.py#1522\u001b\\\u001b[2m1522\u001b[0m\u001b]8;;\u001b\\\n",
       "\u001b[2;36m                    \u001b[0m         \u001b[4;94mhttp://127.0.0.1:8002/mcp\u001b[0m                                               \u001b[2m              \u001b[0m\n"
      ]
     },
     "metadata": {},
     "output_type": "display_data"
    },
    {
     "name": "stderr",
     "output_type": "stream",
     "text": [
      "INFO:     Started server process [9528]\n",
      "INFO:     Waiting for application startup.\n",
      "INFO:     Application startup complete.\n",
      "INFO:     Uvicorn running on http://127.0.0.1:8002 (Press CTRL+C to quit)\n"
     ]
    },
    {
     "name": "stdout",
     "output_type": "stream",
     "text": [
      "INFO:     127.0.0.1:55772 - \"POST /mcp HTTP/1.1\" 307 Temporary Redirect\n",
      "INFO:     127.0.0.1:55772 - \"POST /mcp/ HTTP/1.1\" 200 OK\n",
      "INFO:     127.0.0.1:55773 - \"POST /mcp HTTP/1.1\" 307 Temporary Redirect\n",
      "INFO:     127.0.0.1:55774 - \"GET /mcp HTTP/1.1\" 307 Temporary Redirect\n",
      "INFO:     127.0.0.1:55773 - \"POST /mcp/ HTTP/1.1\" 202 Accepted\n",
      "INFO:     127.0.0.1:55774 - \"GET /mcp/ HTTP/1.1\" 200 OK\n",
      "INFO:     127.0.0.1:55775 - \"POST /mcp HTTP/1.1\" 307 Temporary Redirect\n",
      "INFO:     127.0.0.1:55775 - \"POST /mcp/ HTTP/1.1\" 200 OK\n",
      "INFO:     127.0.0.1:55776 - \"POST /mcp HTTP/1.1\" 307 Temporary Redirect\n",
      "INFO:     127.0.0.1:55776 - \"POST /mcp/ HTTP/1.1\" 200 OK\n",
      "INFO:     127.0.0.1:55777 - \"DELETE /mcp HTTP/1.1\" 307 Temporary Redirect\n",
      "INFO:     127.0.0.1:55777 - \"DELETE /mcp/ HTTP/1.1\" 200 OK\n"
     ]
    }
   ],
   "source": [
    "def start_datetime_server():\n",
    "    mcp_datetime_server = mcp_datetime.mcp\n",
    "    mcp_datetime_server.run(\n",
    "        transport=\"http\",\n",
    "        host=\"127.0.0.1\",\n",
    "        port=8002,\n",
    "        path=\"/mcp\",\n",
    "        log_level=\"debug\",\n",
    "    )\n",
    "\n",
    "threading.Thread(target=start_datetime_server, daemon=True).start()\n"
   ]
  },
  {
   "cell_type": "markdown",
   "id": "ad01b1dd",
   "metadata": {},
   "source": [
    "#### Start Agent B (A2A server)"
   ]
  },
  {
   "cell_type": "code",
   "execution_count": null,
   "id": "6ff27e6b",
   "metadata": {},
   "outputs": [
    {
     "name": "stderr",
     "output_type": "stream",
     "text": [
      "INFO:     Started server process [9528]\n",
      "INFO:     Waiting for application startup.\n",
      "INFO:     Application startup complete.\n",
      "INFO:     Uvicorn running on http://127.0.0.1:9001 (Press CTRL+C to quit)\n"
     ]
    },
    {
     "name": "stdout",
     "output_type": "stream",
     "text": [
      "INFO:     127.0.0.1:55765 - \"POST /a2a/message HTTP/1.1\" 200 OK\n"
     ]
    }
   ],
   "source": [
    "def start_agent_B_server():\n",
    "    agent_b.start_agent_b()\n",
    "\n",
    "threading.Thread(target=start_agent_B_server, daemon=True).start()"
   ]
  },
  {
   "cell_type": "markdown",
   "id": "a4a2d2c8",
   "metadata": {},
   "source": [
    "#### Start Agent A (A2A client)"
   ]
  },
  {
   "cell_type": "code",
   "execution_count": 5,
   "id": "0acdc80b",
   "metadata": {},
   "outputs": [
    {
     "name": "stdout",
     "output_type": "stream",
     "text": [
      "Starting Agent A...\n",
      "Calling Agent B with payload:\n",
      "{'task': {'action': 'convert_currency',\n",
      "          'amount': 123.45,\n",
      "          'from': 'USD',\n",
      "          'to': 'EUR'}}\n"
     ]
    },
    {
     "name": "stdout",
     "output_type": "stream",
     "text": [
      "{'result': {'currency': {'converted': 113.574, 'rate': 0.92},\n",
      "            'datetime': {'result': '2025-08-18T17:19:53.707215+00:00'}},\n",
      " 'status': 'ok'}\n"
     ]
    }
   ],
   "source": [
    "def start_agent_A_server():\n",
    "    agent_a.start_agent_a()\n",
    "\n",
    "threading.Thread(target=start_agent_A_server, daemon=True).start()"
   ]
  },
  {
   "cell_type": "code",
   "execution_count": null,
   "id": "94dc2e11",
   "metadata": {},
   "outputs": [],
   "source": []
  }
 ],
 "metadata": {
  "kernelspec": {
   "display_name": "a2a-simple-demo",
   "language": "python",
   "name": "python3"
  },
  "language_info": {
   "codemirror_mode": {
    "name": "ipython",
    "version": 3
   },
   "file_extension": ".py",
   "mimetype": "text/x-python",
   "name": "python",
   "nbconvert_exporter": "python",
   "pygments_lexer": "ipython3",
   "version": "3.12.11"
  }
 },
 "nbformat": 4,
 "nbformat_minor": 5
}

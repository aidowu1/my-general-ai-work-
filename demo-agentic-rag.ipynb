{
 "cells": [
  {
   "cell_type": "markdown",
   "id": "1b9dab24-d5c5-4bac-9646-8fd24db47b67",
   "metadata": {},
   "source": [
    "### Demo of agentic RAG using Langgraph\n",
    "This demo will outline the following items:\n",
    " - Fetch and preprocess documents that will be used for retrieval.\n",
    " - Index those documents for semantic search and create a retriever tool for the agent.\n",
    " - Build an agentic RAG system that can decide when to use the retriever tool.\n",
    "\n",
    "Reference: [Langgraph agentic RAG](https://langchain-ai.github.io/langgraph/tutorials/rag/langgraph_agentic_rag/) "
   ]
  },
  {
   "cell_type": "markdown",
   "id": "8ed0a19b-7ee9-49f4-982e-152bef53b850",
   "metadata": {},
   "source": [
    "#### Installs"
   ]
  },
  {
   "cell_type": "code",
   "execution_count": 1,
   "id": "ad904cb1-08a0-4d57-bb34-30bb0ad6d52c",
   "metadata": {},
   "outputs": [],
   "source": [
    "# %%capture --no-stderr\n",
    "# %pip install -U --quiet langgraph \"langchain[openai]\" langchain-community langchain-text-splitters"
   ]
  },
  {
   "cell_type": "markdown",
   "id": "34436e77-acd3-4d12-ae59-9c50d4d471ce",
   "metadata": {},
   "source": [
    "#### Imports"
   ]
  },
  {
   "cell_type": "code",
   "execution_count": 2,
   "id": "2c7e53e8-f93f-4fff-b731-5429f05c6ea5",
   "metadata": {},
   "outputs": [
    {
     "name": "stderr",
     "output_type": "stream",
     "text": [
      "USER_AGENT environment variable not set, consider setting it to identify your requests.\n"
     ]
    }
   ],
   "source": [
    "import pickle\n",
    "from typing import List, Tuple, Dict, Any\n",
    "import IPython.display as id\n",
    "import os\n",
    "from dotenv import load_dotenv\n",
    "from langchain_community.document_loaders import WebBaseLoader\n",
    "from langchain_text_splitters import RecursiveCharacterTextSplitter\n",
    "from langchain_core.vectorstores import InMemoryVectorStore\n",
    "from langchain_openai import OpenAIEmbeddings\n",
    "from langchain.tools.retriever import create_retriever_tool\n",
    "from langgraph.graph import MessagesState\n",
    "from langchain.chat_models import init_chat_model\n",
    "from langchain_core.messages import convert_to_messages\n",
    "from langgraph.graph import StateGraph, START, END\n",
    "from langgraph.graph.state import CompiledStateGraph\n",
    "from langgraph.prebuilt import ToolNode\n",
    "from langgraph.prebuilt import tools_condition\n",
    "from IPython.display import Image, display\n",
    "from pydantic import BaseModel, Field\n",
    "from typing import Literal\n",
    "from enum import Enum"
   ]
  },
  {
   "cell_type": "markdown",
   "id": "7b6d37ab-52bb-4f0e-92e8-292f05ec1b56",
   "metadata": {},
   "source": [
    "#### Global constants/variables"
   ]
  },
  {
   "cell_type": "code",
   "execution_count": 3,
   "id": "7d8b572f-4e70-4a0e-b34b-4fb7abdb2aac",
   "metadata": {},
   "outputs": [],
   "source": [
    "NEW_LINE = \"\\n\"\n",
    "LINE_DIVIDER = \"==========\" * 5\n",
    "DOCUMENT_FOLDER_PATH = \"./docs\"\n",
    "DOCUMENT_FILE_PATH = f\"{DOCUMENT_FOLDER_PATH}/doc_pickle_data_file.pl\"\n",
    "os.makedirs(DOCUMENT_FOLDER_PATH, exist_ok=True)"
   ]
  },
  {
   "cell_type": "markdown",
   "id": "b6029270-ae96-40e0-972d-61c0f1d8a77b",
   "metadata": {},
   "source": [
    "#### Set Open AI key"
   ]
  },
  {
   "cell_type": "code",
   "execution_count": 4,
   "id": "72dea1c8-1d0a-4bb2-a82d-9fc38cc0411a",
   "metadata": {},
   "outputs": [],
   "source": [
    "_ = load_dotenv()\n",
    "os.environ[\"OPENAI_API_KEY\"] = os.getenv(\"OPENAI_API_KEY\")"
   ]
  },
  {
   "cell_type": "markdown",
   "id": "399707b7-3b62-4e8e-9023-f18022fe1d53",
   "metadata": {},
   "source": [
    "#### Fetch documents"
   ]
  },
  {
   "cell_type": "code",
   "execution_count": 5,
   "id": "248052da-44ba-4423-ad65-dc52884c800f",
   "metadata": {},
   "outputs": [
    {
     "name": "stdout",
     "output_type": "stream",
     "text": [
      "Data found locally as pickle cache!!\n"
     ]
    }
   ],
   "source": [
    "def getDocuments() -> List[Any]:\n",
    "    \"\"\"\n",
    "    GFetch documents to use in our RAG system. \n",
    "    We will use three of the most recent pages from Lilian Weng's excellent blog.\n",
    "    :return: List of documents\n",
    "    \"\"\"\n",
    "    urls = [\n",
    "        \"https://lilianweng.github.io/posts/2024-11-28-reward-hacking/\",\n",
    "        \"https://lilianweng.github.io/posts/2024-07-07-hallucination/\",\n",
    "        \"https://lilianweng.github.io/posts/2024-04-12-diffusion-video/\",\n",
    "    ]\n",
    "    \n",
    "    docs = [WebBaseLoader(url).load() for url in urls]\n",
    "    return docs\n",
    "    \n",
    "def serializeDocsData(data):\n",
    "    \"\"\"\n",
    "    Serialize the doc data\n",
    "    :param data: Document data\n",
    "    \"\"\"\n",
    "    with open(DOCUMENT_FILE_PATH, 'wb') as file:\n",
    "        pickle.dump(data, file)\n",
    "\n",
    "def deserializeDocsData() -> Any:\n",
    "    \"\"\"\n",
    "    Serialize the doc data\n",
    "    :return: Document data\n",
    "    \"\"\"\n",
    "    with open(DOCUMENT_FILE_PATH, 'rb') as file:\n",
    "        data = pickle.load(file)\n",
    "    return data\n",
    "\n",
    "def getCachedData():\n",
    "    \"\"\"\n",
    "    Gets the documents from a pickle cache (if previously serialized\n",
    "    else it gets it from the web and caches it for future use\n",
    "    :return: Documents\n",
    "    \"\"\"\n",
    "    if os.path.exists(DOCUMENT_FILE_PATH):\n",
    "        print(f\"Data found locally as pickle cache!!\")\n",
    "        docs = deserializeDocsData()        \n",
    "    else:\n",
    "        print(f\"Data NOT found locally as pickle cache so is sourced from the web and cached for future use!!\")\n",
    "        docs = getDocuments()\n",
    "        serializeDocsData(docs)\n",
    "    return docs\n",
    "        \n",
    "\n",
    "\n",
    "\n",
    "\n",
    "docs = getCachedData()"
   ]
  },
  {
   "cell_type": "markdown",
   "id": "c9ae1795-875f-4430-aaaf-0a7b6a817c09",
   "metadata": {},
   "source": [
    "#### Sample document content "
   ]
  },
  {
   "cell_type": "code",
   "execution_count": 6,
   "id": "72307611-3108-4674-9812-30dbbadedc6e",
   "metadata": {},
   "outputs": [
    {
     "data": {
      "text/plain": [
       "\"Reward Hacking in Reinforcement Learning | Lil'Log\\n\\n\\n\\n\\n\\n\\n\\n\\n\\n\\n\\n\\n\\n\\n\\n\\n\\n\\n\\n\\n\\n\\n\\n\\n\\n\\n\\n\\n\\n\\n\\n\\n\\n\\n\\n\\n\\n\\n\\n\\nLil'Log\\n\\n\\n\\n\\n\\n\\n\\n\\n\\n\\n\\n\\n\\n\\n\\n\\n\\n|\\n\\n\\n\\n\\n\\n\\nPosts\\n\\n\\n\\n\\nArchive\\n\\n\\n\\n\\nSearch\\n\\n\\n\\n\\nTags\\n\\n\\n\\n\\nFAQ\\n\\n\\n\\n\\n\\n\\n\\n\\n\\n      Reward Hacking in Reinforcement Learning\\n    \\nDate: November 28, 2024  |  Estimated Reading Time: 37 min  |  Author: Lilian Weng\\n\\n\\n \\n\\n\\nTable of Contents\\n\\n\\n\\nBackground\\n\\nReward Function in RL\\n\\nSpurious Correlation\\n\\n\\nLet’s Define Reward Hacking\\n\\nList of Examples\\n\\nReward hacking examples in RL tasks\\n\\nReward hacking ex\""
      ]
     },
     "execution_count": 6,
     "metadata": {},
     "output_type": "execute_result"
    }
   ],
   "source": [
    "docs[0][0].page_content.strip()[:500]"
   ]
  },
  {
   "cell_type": "markdown",
   "id": "bc807128-a82f-4d1d-b21b-cce2a8283cc8",
   "metadata": {},
   "source": [
    "#### Chunk documents"
   ]
  },
  {
   "cell_type": "code",
   "execution_count": 7,
   "id": "ce73a8eb-d86a-47d2-90b7-86115d682a17",
   "metadata": {},
   "outputs": [],
   "source": [
    "def spliDocuments(docs: List[Any]) -> List[Any]:\n",
    "    \"\"\"\n",
    "    Splits the documents into smaller chunks\n",
    "    :param docs: Documents\n",
    "    :return: Samller document chunks\n",
    "    \"\"\"\n",
    "    docs_list = [item for sublist in docs for item in sublist]\n",
    "\n",
    "    text_splitter = RecursiveCharacterTextSplitter.from_tiktoken_encoder(\n",
    "        chunk_size=100, chunk_overlap=50\n",
    "    )\n",
    "    doc_splits = text_splitter.split_documents(docs_list)\n",
    "    return doc_splits\n",
    "\n",
    "doc_chunks = spliDocuments(docs)"
   ]
  },
  {
   "cell_type": "markdown",
   "id": "b820101b-f254-44dc-a601-799815475356",
   "metadata": {},
   "source": [
    "#### Sample document chunks"
   ]
  },
  {
   "cell_type": "code",
   "execution_count": 8,
   "id": "40a84d2a-81e6-41ea-8424-6ba35c06d7e4",
   "metadata": {},
   "outputs": [
    {
     "data": {
      "text/plain": [
       "[\"Reward Hacking in Reinforcement Learning | Lil'Log\\n\\n\\n\\n\\n\\n\\n\\n\\n\\n\\n\\n\\n\\n\\n\\n\\n\\n\\n\\n\\n\\n\\n\\n\\n\\n\\n\\n\\n\\n\\n\\n\\n\\n\\n\\n\\n\\n\\n\\n\\nLil'Log\\n\\n\\n\\n\\n\\n\\n\\n\\n\\n\\n\\n\\n\\n\\n\\n\\n\\n|\\n\\n\\n\\n\\n\\n\\nPosts\\n\\n\\n\\n\\nArchive\\n\\n\\n\\n\\nSearch\\n\\n\\n\\n\\nTags\\n\\n\\n\\n\\nFAQ\",\n",
       " \"Lil'Log\\n\\n\\n\\n\\n\\n\\n\\n\\n\\n\\n\\n\\n\\n\\n\\n\\n\\n|\\n\\n\\n\\n\\n\\n\\nPosts\\n\\n\\n\\n\\nArchive\\n\\n\\n\\n\\nSearch\\n\\n\\n\\n\\nTags\\n\\n\\n\\n\\nFAQ\\n\\n\\n\\n\\n\\n\\n\\n\\n\\n      Reward Hacking in Reinforcement Learning\\n    \\nDate: November 28, 2024  |  Estimated Reading Time: 37 min  |  Author: Lilian Weng\"]"
      ]
     },
     "execution_count": 8,
     "metadata": {},
     "output_type": "execute_result"
    }
   ],
   "source": [
    "[doc_chunk.page_content.strip() for doc_chunk in doc_chunks[:2]]"
   ]
  },
  {
   "cell_type": "markdown",
   "id": "42e421fe-72b5-4760-a1e8-3692fec93c3e",
   "metadata": {},
   "source": [
    "#### Create the retriever tool"
   ]
  },
  {
   "cell_type": "code",
   "execution_count": 9,
   "id": "eb77305a-0906-45f6-956d-091c828cd906",
   "metadata": {},
   "outputs": [],
   "source": [
    "class RetrieverTool:\n",
    "    \"\"\"\n",
    "    Retriever tool\n",
    "    \"\"\"\n",
    "    def __init__(self, doc_chunks: List[Any]=doc_chunks):\n",
    "        \"\"\"\n",
    "        Constructor\n",
    "        :param doc_chunks: Document chunks\n",
    "        \"\"\"\n",
    "        self.vectorstore = InMemoryVectorStore.from_documents(\n",
    "            documents=doc_chunks, embedding=OpenAIEmbeddings()\n",
    "        )\n",
    "        self.retriever = self.vectorstore.as_retriever()\n",
    "\n",
    "    def __call__(self):\n",
    "        \"\"\"\n",
    "        Calls the instance of the Retriever tool\n",
    "        \"\"\"\n",
    "        self.retriever_tool = create_retriever_tool(\n",
    "            self.retriever,\n",
    "            \"retrieve_blog_posts\",\n",
    "            \"Search and return information about Lilian Weng blog posts.\",\n",
    "        )\n",
    "        return self.retriever_tool"
   ]
  },
  {
   "cell_type": "markdown",
   "id": "0b022661-11cd-4940-9fc6-030f0e0cd8c5",
   "metadata": {},
   "source": [
    "#### Test the Retriever tool"
   ]
  },
  {
   "cell_type": "code",
   "execution_count": 10,
   "id": "f4649c0a-cbc3-416f-8c4b-f57c8dad885b",
   "metadata": {},
   "outputs": [
    {
     "name": "stdout",
     "output_type": "stream",
     "text": [
      "<class 'langchain_core.tools.simple.Tool'>\n"
     ]
    },
    {
     "data": {
      "text/plain": [
       "'Detecting Reward Hacking#\\n\\nIn-Context Reward Hacking#\\n\\n(Note: Some work defines reward tampering as a distinct category of misalignment behavior from reward hacking. But I consider reward hacking as a broader concept here.)\\nAt a high level, reward hacking can be categorized into two types: environment or goal misspecification, and reward tampering.\\n\\nWhy does Reward Hacking Exist?#'"
      ]
     },
     "execution_count": 10,
     "metadata": {},
     "output_type": "execute_result"
    }
   ],
   "source": [
    "retriever_tool = RetrieverTool(doc_chunks)\n",
    "tool = retriever_tool()\n",
    "print(type(tool))\n",
    "query_sample = \"types of reward hacking\"\n",
    "tool.invoke({\"query\": query_sample})"
   ]
  },
  {
   "cell_type": "markdown",
   "id": "42680eee-381f-45f3-a215-edf7b42417f8",
   "metadata": {},
   "source": [
    "#### Specify graph tasks factory class(i.e. thattasks can be graph nodes or edges)\n",
    "This factory is used to create the task nodes that are part of the agentic workflow. These include:\n",
    " - task (node) to generate query or response\n",
    " - task (node) to retieve context\n",
    " - task (node) to re-write a question\n",
    " - task (node) to generate an answer\n",
    " - task (edge) to grade documents"
   ]
  },
  {
   "cell_type": "markdown",
   "id": "3e3b0b15-ecb9-41c8-bbd9-92b996879e73",
   "metadata": {},
   "source": [
    "##### Task enumerations"
   ]
  },
  {
   "cell_type": "code",
   "execution_count": 11,
   "id": "fafcd6dc-6492-46b8-bbc5-4708244b1557",
   "metadata": {},
   "outputs": [],
   "source": [
    "class TaskType(Enum):\n",
    "    \"\"\"\n",
    "    Task enumerations\n",
    "    \"\"\"\n",
    "    generate_query_or_response = 1\n",
    "    retrieve_context = 2\n",
    "    rewrite_question = 3\n",
    "    generate_answer = 4\n",
    "    grade_documents = 5"
   ]
  },
  {
   "cell_type": "markdown",
   "id": "fa5461f2-e254-40a9-a17c-a217bec326b5",
   "metadata": {},
   "source": [
    "##### Implementation of the generate query or response tasks"
   ]
  },
  {
   "cell_type": "code",
   "execution_count": 12,
   "id": "2d56a786-0c68-435e-b31d-dc0321f90109",
   "metadata": {},
   "outputs": [],
   "source": [
    "class GenerateQueryOrResponseTask:\n",
    "    \"\"\"\n",
    "    Implementation of the Document grading task\n",
    "    \"\"\"\n",
    "    def __init__(self, retriever_tool: Any=tool):\n",
    "        \"\"\"\n",
    "        Constructor\n",
    "        :param retriever_tool: Context retriever tool\n",
    "        \"\"\"\n",
    "        self.retriever_tool = retriever_tool\n",
    "        self.response_model = init_chat_model(\"openai:gpt-4.1\", temperature=0)\n",
    "\n",
    "    def _generate_query_or_respond(self, state: MessagesState):\n",
    "        \"\"\"Call the model to generate a response based on the current state. Given\n",
    "        the question, it will decide to retrieve using the retriever tool, or simply respond to the user.\n",
    "        \"\"\"\n",
    "        response = (\n",
    "            self.response_model\n",
    "            .bind_tools([self.retriever_tool]).invoke(state[\"messages\"])\n",
    "        )\n",
    "        return {\"messages\": [response]}\n",
    "\n",
    "    def __call__(self, state: MessagesState):\n",
    "        \"\"\"\n",
    "        Calls the instance of the \"GenerateQueryOrResponseTask\"\n",
    "        \"\"\"\n",
    "        return self._generate_query_or_respond(state)\n",
    "        \n",
    "        \n",
    "        \n",
    "    "
   ]
  },
  {
   "cell_type": "markdown",
   "id": "687c506f-0758-41eb-8745-7dfdedcada13",
   "metadata": {},
   "source": [
    "##### Implementation of the Document grading task"
   ]
  },
  {
   "cell_type": "code",
   "execution_count": 13,
   "id": "7cea0030-e2d4-4d03-a1db-6b89d59946e1",
   "metadata": {},
   "outputs": [],
   "source": [
    "class GradeDocuments(BaseModel):\n",
    "    \"\"\"\n",
    "    Grade documents (pydantic object) using a binary score for relevance check.\n",
    "    \"\"\"\n",
    "\n",
    "    binary_score: str = Field(\n",
    "        description=\"Relevance score: 'yes' if relevant, or 'no' if not relevant\"\n",
    "    )\n"
   ]
  },
  {
   "cell_type": "code",
   "execution_count": 14,
   "id": "fd37a294-8ecf-46ad-913c-5d193dcb08cf",
   "metadata": {},
   "outputs": [],
   "source": [
    "GRADE_PROMPT = (\n",
    "    \"You are a grader assessing relevance of a retrieved document to a user question. \\n \"\n",
    "    \"Here is the retrieved document: \\n\\n {context} \\n\\n\"\n",
    "    \"Here is the user question: {question} \\n\"\n",
    "    \"If the document contains keyword(s) or semantic meaning related to the user question, grade it as relevant. \\n\"\n",
    "    \"Give a binary score 'yes' or 'no' score to indicate whether the document is relevant to the question.\"\n",
    ")\n"
   ]
  },
  {
   "cell_type": "code",
   "execution_count": 15,
   "id": "fc153363-bc17-4d7c-bd16-ae49d4116658",
   "metadata": {},
   "outputs": [],
   "source": [
    "class DocumentsGradingTask:\n",
    "    \"\"\"\n",
    "    Implementation of the generate query or response node\n",
    "    \"\"\"\n",
    "    def __init__(self):\n",
    "        \"\"\"\n",
    "        Constructor        \n",
    "        \"\"\"        \n",
    "        self.grader_model = init_chat_model(\"openai:gpt-4.1\", temperature=0)\n",
    "        self.grade_documents = GradeDocuments\n",
    "\n",
    "    def _gradeDocuments(\n",
    "        self, \n",
    "        state: MessagesState,\n",
    "        ) -> Literal[\"generate_answer\", \"rewrite_question\"]:\n",
    "        \"\"\"Determine whether the retrieved documents are relevant to the question.\"\"\"\n",
    "        question = state[\"messages\"][0].content\n",
    "        context = state[\"messages\"][-1].content\n",
    "    \n",
    "        prompt = GRADE_PROMPT.format(question=question, context=context)\n",
    "        response = (\n",
    "            self.grader_model\n",
    "            .with_structured_output(self.grade_documents).invoke(\n",
    "                [{\"role\": \"user\", \"content\": prompt}]\n",
    "            )\n",
    "        )\n",
    "        score = response.binary_score\n",
    "    \n",
    "        if score == \"yes\":\n",
    "            return \"generate_answer\"\n",
    "        else:\n",
    "            return \"rewrite_question\"\n",
    "\n",
    "    def __call__(self, state: MessagesState):\n",
    "        \"\"\"\n",
    "        Calls the instance of the \"DocumentsGradingTask\"\n",
    "        \"\"\"\n",
    "        return self._gradeDocuments(state)\n",
    "        "
   ]
  },
  {
   "cell_type": "markdown",
   "id": "2cb83c65-34cb-49aa-a467-064f57fb47c1",
   "metadata": {},
   "source": [
    "#### Implementation of the Re-write question task"
   ]
  },
  {
   "cell_type": "code",
   "execution_count": 16,
   "id": "e43c0270-0212-499a-8c4e-fc4089f9104d",
   "metadata": {},
   "outputs": [],
   "source": [
    "REWRITE_PROMPT = (\n",
    "    \"Look at the input and try to reason about the underlying semantic intent / meaning.\\n\"\n",
    "    \"Here is the initial question:\"\n",
    "    \"\\n ------- \\n\"\n",
    "    \"{question}\"\n",
    "    \"\\n ------- \\n\"\n",
    "    \"Formulate an improved question:\"\n",
    ")"
   ]
  },
  {
   "cell_type": "code",
   "execution_count": 17,
   "id": "f24fcb56-d484-48a9-910a-ef9774dc9218",
   "metadata": {},
   "outputs": [],
   "source": [
    "class RewriteQuestionTask:\n",
    "    \"\"\"\n",
    "    Implementation of the rewrite question task\n",
    "    \"\"\"\n",
    "    def __init__(self):\n",
    "        \"\"\"\n",
    "        Constructor        \n",
    "        \"\"\"\n",
    "        self.response_model = init_chat_model(\"openai:gpt-4.1\", temperature=0)\n",
    "\n",
    "    def _rewriteQuestion(self, state: MessagesState):\n",
    "        \"\"\"\n",
    "        Rewrite the original user question.\n",
    "        :param state: State\n",
    "        \"\"\"\n",
    "        messages = state[\"messages\"]\n",
    "        question = messages[0].content\n",
    "        prompt = REWRITE_PROMPT.format(question=question)\n",
    "        response = self.response_model.invoke([{\"role\": \"user\", \"content\": prompt}])\n",
    "        return {\"messages\": [{\"role\": \"user\", \"content\": response.content}]}\n",
    "\n",
    "    def __call__(self, state: MessagesState):\n",
    "        \"\"\"\n",
    "        Calls the instance of the \"GenerateQueryOrResponseTask\"\n",
    "        \"\"\"\n",
    "        return self._rewriteQuestion(state)\n"
   ]
  },
  {
   "cell_type": "markdown",
   "id": "2c43d630-3151-4f59-b68a-3e523fb9a9d3",
   "metadata": {},
   "source": [
    "#### Implementation of the Generate an answer task "
   ]
  },
  {
   "cell_type": "code",
   "execution_count": 18,
   "id": "901bd39d-39a2-4bfd-aa8c-da69f1e99ca6",
   "metadata": {},
   "outputs": [],
   "source": [
    "GENERATE_PROMPT = (\n",
    "    \"You are an assistant for question-answering tasks. \"\n",
    "    \"Use the following pieces of retrieved context to answer the question. \"\n",
    "    \"If you don't know the answer, just say that you don't know. \"\n",
    "    \"Use three sentences maximum and keep the answer concise.\\n\"\n",
    "    \"Question: {question} \\n\"\n",
    "    \"Context: {context}\"\n",
    ")"
   ]
  },
  {
   "cell_type": "code",
   "execution_count": 19,
   "id": "724f7b94-ea78-4431-959b-960a510caa8d",
   "metadata": {},
   "outputs": [],
   "source": [
    "class GenerateAnswerTask:\n",
    "    \"\"\"\n",
    "    Implementation of the Generate an answer task \n",
    "    \"\"\"\n",
    "    def __init__(self):\n",
    "        \"\"\"\n",
    "        Constructor        \n",
    "        \"\"\"\n",
    "        self.response_model = init_chat_model(\"openai:gpt-4.1\", temperature=0)\n",
    "\n",
    "    def _generateAnswer(self, state: MessagesState):\n",
    "        \"\"\"\n",
    "        Rewrite the original user question.\n",
    "        :param state: State\n",
    "        \"\"\"\n",
    "        question = state[\"messages\"][0].content\n",
    "        context = state[\"messages\"][-1].content\n",
    "        prompt = GENERATE_PROMPT.format(question=question, context=context)\n",
    "        response = self.response_model.invoke([{\"role\": \"user\", \"content\": prompt}])\n",
    "        return {\"messages\": [response]}\n",
    "\n",
    "    def __call__(self, state: MessagesState):\n",
    "        \"\"\"\n",
    "        Calls the instance of the \"GenerateAnswerTask\"\n",
    "        \"\"\"\n",
    "        return self._generateAnswer(state)\n"
   ]
  },
  {
   "cell_type": "code",
   "execution_count": null,
   "id": "853fdf4b-7d6e-4967-9b7f-8dc3890d4d71",
   "metadata": {},
   "outputs": [],
   "source": []
  },
  {
   "cell_type": "code",
   "execution_count": 20,
   "id": "336f50c8-9735-42c3-93a4-60f491f84879",
   "metadata": {},
   "outputs": [],
   "source": [
    "class TaskFactory:\n",
    "    \"\"\"\n",
    "    Factory is used to create the task nodes that are part of the agentic workflow\n",
    "    \"\"\"\n",
    "    @staticmethod        \n",
    "    def create(task_type: TaskType, retriever_tool: Any=tool):\n",
    "        \"\"\"\n",
    "        Calls the factory instance\n",
    "        :param task_type: Task type\n",
    "        \"\"\"\n",
    "        tasks = {\n",
    "            TaskType.generate_query_or_response: GenerateQueryOrResponseTask(retriever_tool),\n",
    "            TaskType.retrieve_context: retriever_tool,\n",
    "            TaskType.grade_documents: DocumentsGradingTask(),\n",
    "            TaskType.rewrite_question: RewriteQuestionTask(),\n",
    "            TaskType.generate_answer: GenerateAnswerTask(),\n",
    "        }\n",
    "        selected_task = tasks.get(task_type)\n",
    "        return selected_task"
   ]
  },
  {
   "cell_type": "code",
   "execution_count": null,
   "id": "b1cd656e-4c92-4553-ad5b-81562e93cc20",
   "metadata": {},
   "outputs": [],
   "source": []
  },
  {
   "cell_type": "code",
   "execution_count": null,
   "id": "fe0fb102-79a4-4c55-903e-1c5011c79493",
   "metadata": {},
   "outputs": [],
   "source": []
  },
  {
   "cell_type": "markdown",
   "id": "a25e4f07-bb83-468a-90c5-28c508fb6075",
   "metadata": {},
   "source": [
    "#### Test the node factory"
   ]
  },
  {
   "cell_type": "code",
   "execution_count": 21,
   "id": "32f8150e-e270-46be-99f7-0128b270cffe",
   "metadata": {},
   "outputs": [
    {
     "name": "stdout",
     "output_type": "stream",
     "text": [
      "testGenerateQueryOrResponseTask(): \n",
      "Results for random query:\n",
      "==================================\u001b[1m Ai Message \u001b[0m==================================\n",
      "\n",
      "Hello! How can I help you today?\n",
      "\n",
      "\n",
      "Results for query with semantic search:\n",
      "==================================\u001b[1m Ai Message \u001b[0m==================================\n",
      "Tool Calls:\n",
      "  retrieve_blog_posts (call_ewJpz31kHih5lQlYKOnvUgtb)\n",
      " Call ID: call_ewJpz31kHih5lQlYKOnvUgtb\n",
      "  Args:\n",
      "    query: types of reward hacking\n",
      "\n",
      "\n",
      "==================================================\n",
      "\n",
      "\n",
      "testRetrieverToolTask(): \n",
      "<class 'langchain_core.tools.simple.Tool'>\n",
      "Detecting Reward Hacking#\n",
      "\n",
      "In-Context Reward Hacking#\n",
      "\n",
      "(Note: Some work defines reward tampering as a distinct category of misalignment behavior from reward hacking. But I consider reward hacking as a broader concept here.)\n",
      "At a high level, reward hacking can be categorized into two types: environment or goal misspecification, and reward tampering.\n",
      "\n",
      "Why does Reward Hacking Exist?#\n",
      "==================================================\n",
      "\n",
      "\n",
      "testDocumentsGradingTask(): \n",
      "rewrite_question\n",
      "generate_answer\n",
      "==================================================\n",
      "\n",
      "\n",
      "testRewriteQuestionTaskTask(): \n",
      "Certainly! Here’s an improved version of the question:\n",
      "\n",
      "What are the different types of reward hacking described by Lilian Weng, and how does she explain them?\n",
      "\n",
      "\n",
      "==================================================\n",
      "\n",
      "\n",
      "testGenerateAnswerTask(): \n",
      "==================================\u001b[1m Ai Message \u001b[0m==================================\n",
      "\n",
      "Lilian Weng says that reward hacking can be categorized into two types: environment or goal misspecification, and reward tampering. These categories describe different ways in which an agent might exploit flaws in the reward system. Environment or goal misspecification involves unintended behaviors due to poorly specified objectives, while reward tampering involves the agent manipulating the reward signal itself.\n",
      "None\n",
      "\n",
      "\n",
      "==================================================\n",
      "\n",
      "\n"
     ]
    }
   ],
   "source": [
    "def testGenerateQueryOrResponseTask():\n",
    "    \"\"\"\n",
    "    Test the \"GenerateQueryOrResponseTask\"\n",
    "    \"\"\"\n",
    "    task_type=TaskType.generate_query_or_response\n",
    "    task = TaskFactory.create(task_type)    \n",
    "\n",
    "    print(\"Results for random query:\")\n",
    "    input_random = {\"messages\": [{\"role\": \"user\", \"content\": \"hello!\"}]}\n",
    "    task(input_random)[\"messages\"][-1].pretty_print()\n",
    "    print(f\"{NEW_LINE}\")\n",
    "\n",
    "    print(\"Results for query with semantic search:\")\n",
    "    input_with_semantic_search = {\n",
    "    \"messages\": [\n",
    "        {\n",
    "            \"role\": \"user\",\n",
    "            \"content\": \"What does Lilian Weng say about types of reward hacking?\",\n",
    "        }\n",
    "        ]\n",
    "    }\n",
    "    task(input_with_semantic_search)[\"messages\"][-1].pretty_print()\n",
    "    print(f\"{NEW_LINE}\")\n",
    "\n",
    "def testRetrieverToolTask():\n",
    "    \"\"\"\n",
    "    Test the \"RetrieverToolTask\"\n",
    "    \"\"\"\n",
    "    task_type=TaskType.retrieve_context\n",
    "    task = TaskFactory.create(task_type)\n",
    "    # retriever_tool = RetrieverTool(doc_chunks)\n",
    "    # tool = retriever_tool()\n",
    "    print(type(task))\n",
    "    \n",
    "    query_sample = \"types of reward hacking\"\n",
    "    print(task.invoke({\"query\": query_sample}))\n",
    "\n",
    "def testDocumentsGradingTask():\n",
    "    \"\"\"\n",
    "    Test the \"DocumentsGradingTask\"\n",
    "    \"\"\"\n",
    "    task_type=TaskType.grade_documents\n",
    "    task = TaskFactory.create(task_type)\n",
    "\n",
    "    input_irrelevant_docs = {\n",
    "    \"messages\": convert_to_messages(\n",
    "        [\n",
    "                {\n",
    "                    \"role\": \"user\",\n",
    "                    \"content\": \"What does Lilian Weng say about types of reward hacking?\",\n",
    "                },\n",
    "                {\n",
    "                    \"role\": \"assistant\",\n",
    "                    \"content\": \"\",\n",
    "                    \"tool_calls\": [\n",
    "                        {\n",
    "                            \"id\": \"1\",\n",
    "                            \"name\": \"retrieve_blog_posts\",\n",
    "                            \"args\": {\"query\": \"types of reward hacking\"},\n",
    "                        }\n",
    "                    ],\n",
    "                },\n",
    "                {\"role\": \"tool\", \"content\": \"meow\", \"tool_call_id\": \"1\"},\n",
    "            ]\n",
    "        )\n",
    "    }\n",
    "    print(task(input_irrelevant_docs))\n",
    "\n",
    "    input_relevant_docs = {\n",
    "    \"messages\": convert_to_messages(\n",
    "            [\n",
    "                {\n",
    "                    \"role\": \"user\",\n",
    "                    \"content\": \"What does Lilian Weng say about types of reward hacking?\",\n",
    "                },\n",
    "                {\n",
    "                    \"role\": \"assistant\",\n",
    "                    \"content\": \"\",\n",
    "                    \"tool_calls\": [\n",
    "                        {\n",
    "                            \"id\": \"1\",\n",
    "                            \"name\": \"retrieve_blog_posts\",\n",
    "                            \"args\": {\"query\": \"types of reward hacking\"},\n",
    "                        }\n",
    "                    ],\n",
    "                },\n",
    "                {\n",
    "                    \"role\": \"tool\",\n",
    "                    \"content\": \"At a high level, reward hacking can be categorized into two types: environment or goal misspecification, and reward tampering\",\n",
    "                    \"tool_call_id\": \"1\",\n",
    "                },\n",
    "            ]\n",
    "        )\n",
    "    }\n",
    "    print(task(input_relevant_docs))\n",
    "\n",
    "def testRewriteQuestionTaskTask():\n",
    "    \"\"\"\n",
    "    Test the \"RewriteQuestionTask\"\n",
    "    \"\"\"\n",
    "    task_type=TaskType.rewrite_question\n",
    "    task = TaskFactory.create(task_type)   \n",
    "\n",
    "    input = {\n",
    "    \"messages\": convert_to_messages(\n",
    "            [\n",
    "                {\n",
    "                    \"role\": \"user\",\n",
    "                    \"content\": \"What does Lilian Weng say about types of reward hacking?\",\n",
    "                },\n",
    "                {\n",
    "                    \"role\": \"assistant\",\n",
    "                    \"content\": \"\",\n",
    "                    \"tool_calls\": [\n",
    "                        {\n",
    "                            \"id\": \"1\",\n",
    "                            \"name\": \"retrieve_blog_posts\",\n",
    "                            \"args\": {\"query\": \"types of reward hacking\"},\n",
    "                        }\n",
    "                    ],\n",
    "                },\n",
    "                {\"role\": \"tool\", \"content\": \"meow\", \"tool_call_id\": \"1\"},\n",
    "            ]\n",
    "        )\n",
    "    }\n",
    "\n",
    "    print(task(input)[\"messages\"][-1][\"content\"])\n",
    "    print(f\"{NEW_LINE}\")\n",
    "\n",
    "def testGenerateAnswerTask():\n",
    "    \"\"\"\n",
    "    Test the \"RewriteQuestionTask\"\n",
    "    \"\"\"\n",
    "    task_type=TaskType.generate_answer\n",
    "    task = TaskFactory.create(task_type)   \n",
    "\n",
    "    input = {\n",
    "    \"messages\": convert_to_messages(\n",
    "            [\n",
    "                {\n",
    "                    \"role\": \"user\",\n",
    "                    \"content\": \"What does Lilian Weng say about types of reward hacking?\",\n",
    "                },\n",
    "                {\n",
    "                    \"role\": \"assistant\",\n",
    "                    \"content\": \"\",\n",
    "                    \"tool_calls\": [\n",
    "                        {\n",
    "                            \"id\": \"1\",\n",
    "                            \"name\": \"retrieve_blog_posts\",\n",
    "                            \"args\": {\"query\": \"types of reward hacking\"},\n",
    "                        }\n",
    "                    ],\n",
    "                },\n",
    "                {\n",
    "                    \"role\": \"tool\",\n",
    "                    \"content\": \"reward hacking can be categorized into two types: environment or goal misspecification, and reward tampering\",\n",
    "                    \"tool_call_id\": \"1\",\n",
    "                },\n",
    "            ]\n",
    "        )\n",
    "    }\n",
    "\n",
    "    print(task(input)[\"messages\"][-1].pretty_print())\n",
    "    print(f\"{NEW_LINE}\")\n",
    "\n",
    "    \n",
    "print(f\"testGenerateQueryOrResponseTask(): \")\n",
    "testGenerateQueryOrResponseTask()\n",
    "print(f\"{LINE_DIVIDER}{NEW_LINE}{NEW_LINE}\")\n",
    "\n",
    "print(f\"testRetrieverToolTask(): \")\n",
    "testRetrieverToolTask()\n",
    "print(f\"{LINE_DIVIDER}{NEW_LINE}{NEW_LINE}\")\n",
    "\n",
    "print(f\"testDocumentsGradingTask(): \")\n",
    "testDocumentsGradingTask()\n",
    "print(f\"{LINE_DIVIDER}{NEW_LINE}{NEW_LINE}\")\n",
    "\n",
    "print(f\"testRewriteQuestionTaskTask(): \")\n",
    "testRewriteQuestionTaskTask()\n",
    "print(f\"{LINE_DIVIDER}{NEW_LINE}{NEW_LINE}\")\n",
    "\n",
    "print(f\"testGenerateAnswerTask(): \")\n",
    "testGenerateAnswerTask()\n",
    "print(f\"{LINE_DIVIDER}{NEW_LINE}{NEW_LINE}\")"
   ]
  },
  {
   "cell_type": "code",
   "execution_count": null,
   "id": "32300514-4a6d-411e-b588-bfa4cbd7fca7",
   "metadata": {},
   "outputs": [],
   "source": []
  },
  {
   "cell_type": "markdown",
   "id": "86623feb-dea8-4c68-a43f-89c270680afc",
   "metadata": {},
   "source": [
    "#### Assemble the langgraph workflow graph\n",
    "Graph workflow consist of the steps:\n",
    " - Start with a GenerateQueryOrResponseTask() task and determine if we need to call RetrieverToolTask()\n",
    " - Route to next step using tools_condition (this is a prebuilt task in the langgraph framework):\n",
    "   - If GenerateQueryOrResponseTask() returned tool_calls then the RetrieverToolTask() will be invoked\n",
    "   - Else the bot will respond directly to the user\n",
    " - Invoke the DocumentsGradingTask() to grade retrieved document content for relevance to the question and route to next step:\n",
    "   - If document context is NOT relevant, invoke the RewriteQuestionTaskTask() to rewrite the question and then call GenerateQueryOrResponseTask() again\n",
    "   - If document context is relevant, proceed to invoke the GenerateAnswerTask() and generate final response using the ToolMessage with the retrieved document context"
   ]
  },
  {
   "cell_type": "code",
   "execution_count": 22,
   "id": "bf68ca6f-ef89-44ba-a723-20977eff8c17",
   "metadata": {},
   "outputs": [],
   "source": [
    "# def grade_documents(\n",
    "#     state: MessagesState,\n",
    "# ) -> Literal[\"generate_answer\", \"rewrite_question\"]:\n",
    "#    \"\"\"Determine whether the retrieved documents are relevant to the question.\"\"\"\n",
    "#    return TaskFactory.create(TaskType.grade_documents)\n",
    "\n",
    "grader_model = init_chat_model(\"openai:gpt-4.1\", temperature=0)\n",
    "\n",
    "def grade_documents(\n",
    "    state: MessagesState,\n",
    ") -> Literal[\"generate_answer\", \"rewrite_question\"]:\n",
    "    \"\"\"Determine whether the retrieved documents are relevant to the question.\"\"\"\n",
    "    question = state[\"messages\"][0].content\n",
    "    context = state[\"messages\"][-1].content\n",
    "\n",
    "    prompt = GRADE_PROMPT.format(question=question, context=context)\n",
    "    response = (\n",
    "        grader_model\n",
    "        .with_structured_output(GradeDocuments).invoke(\n",
    "            [{\"role\": \"user\", \"content\": prompt}]\n",
    "        )\n",
    "    )\n",
    "    score = response.binary_score\n",
    "\n",
    "    if score == \"yes\":\n",
    "        return \"generate_answer\"\n",
    "    else:\n",
    "        return \"rewrite_question\"\n",
    "\n",
    "class RagWorkflow:\n",
    "    \"\"\"\n",
    "    Assembles the agentic langgraph RAG workflow graph\n",
    "    \"\"\"\n",
    "    def __init__(self):\n",
    "        \"\"\"\n",
    "        Constructor\n",
    "        \"\"\"\n",
    "        self.workflow = StateGraph(MessagesState)\n",
    "        self.generate_query_or_respond = TaskFactory.create(TaskType.generate_query_or_response) \n",
    "        self.retriever_tool = TaskFactory.create(TaskType.retrieve_context)\n",
    "        self.rewrite_question = TaskFactory.create(TaskType.rewrite_question)   \n",
    "        self.generate_answer = TaskFactory.create(TaskType.generate_answer)\n",
    "        # self.grade_documents = grade_documents_wrapper_func\n",
    "\n",
    "        self.graph = None\n",
    "\n",
    "    def createWorflowGraph(self):\n",
    "        \"\"\"\n",
    "        Creates the workflow\n",
    "        \"\"\"\n",
    "        # Define the nodes we will cycle between\n",
    "        self.workflow.add_node(\"generate_query_or_respond\", self.generate_query_or_respond)\n",
    "        self.workflow.add_node(\"retrieve\", ToolNode([self.retriever_tool]))\n",
    "        self.workflow.add_node(\"rewrite_question\", self.rewrite_question)\n",
    "        self.workflow.add_node(\"generate_answer\", self.generate_answer)\n",
    "\n",
    "        \n",
    "        # Add the 1st edge\n",
    "        self.workflow.add_edge(START, \"generate_query_or_respond\")\n",
    "        \n",
    "        # Decide whether to retrieve using a conditional edge\n",
    "        self.workflow.add_conditional_edges(\n",
    "            \"generate_query_or_respond\",\n",
    "            # Assess LLM decision (call `retriever_tool` tool or respond to the user)\n",
    "            tools_condition,\n",
    "            {\n",
    "                # Translate the condition outputs to nodes in our graph\n",
    "                \"tools\": \"retrieve\",\n",
    "                END: END,\n",
    "            },\n",
    "        )\n",
    "        \n",
    "\n",
    "        # Add edges taken after the `action` node is called.\n",
    "        self.workflow.add_conditional_edges(\n",
    "            \"retrieve\",\n",
    "            # Assess agent decision\n",
    "            grade_documents,\n",
    "        )\n",
    "\n",
    "        # self.workflow.add_edge(\"retrieve\", \"rewrite_question\")\n",
    "        self.workflow.add_edge(\"rewrite_question\", \"generate_query_or_respond\")\n",
    "        # self.workflow.add_edge(\"retrieve\", \"generate_answer\")\n",
    "        self.workflow.add_edge(\"generate_answer\", END)\n",
    "\n",
    "        # Compile\n",
    "        self.graph = self.workflow.compile()\n",
    "        return self.graph\n",
    "\n",
    "    def visualize(self):\n",
    "        \"\"\"\n",
    "        Visualize the workflow graph\n",
    "        \"\"\"\n",
    "        display(Image(self.graph.get_graph().draw_mermaid_png()))\n",
    "    "
   ]
  },
  {
   "cell_type": "markdown",
   "id": "123c4c9e-67eb-46f9-9399-b09c74793cb4",
   "metadata": {},
   "source": [
    "#### Build and visualize the workflow graph"
   ]
  },
  {
   "cell_type": "code",
   "execution_count": 23,
   "id": "32b9165d-848e-45cc-8ff6-10c0956010ed",
   "metadata": {},
   "outputs": [
    {
     "data": {
      "image/png": "[encoded data removed]",
      "text/plain": [
       "<IPython.core.display.Image object>"
      ]
     },
     "metadata": {},
     "output_type": "display_data"
    }
   ],
   "source": [
    "def buildAndVisualizeWorflow() -> CompiledStateGraph:\n",
    "    \"\"\"\n",
    "    Build and generates the visualization of the agentic workflow\n",
    "    :return: Built worflow graph\n",
    "    \"\"\"\n",
    "    rag_worflow = RagWorkflow()\n",
    "    graph = rag_worflow.createWorflowGraph()\n",
    "    rag_worflow.visualize()\n",
    "    \n",
    "    return graph\n",
    "\n",
    "graph = buildAndVisualizeWorflow()"
   ]
  },
  {
   "cell_type": "code",
   "execution_count": null,
   "id": "ef3fa677-6d69-484f-b341-cf3d784f7756",
   "metadata": {},
   "outputs": [],
   "source": []
  },
  {
   "cell_type": "markdown",
   "id": "4d5c64bc-84de-4a55-bd0e-15dd166dc086",
   "metadata": {},
   "source": [
    "#### Run the agentic RAG"
   ]
  },
  {
   "cell_type": "code",
   "execution_count": 24,
   "id": "f2c3cfe2-a240-4edb-998b-5a4613431b0e",
   "metadata": {},
   "outputs": [
    {
     "name": "stdout",
     "output_type": "stream",
     "text": [
      "Update from node generate_query_or_respond\n",
      "==================================\u001b[1m Ai Message \u001b[0m==================================\n",
      "Tool Calls:\n",
      "  retrieve_blog_posts (call_mS3NzUkMYb7qay2M27C8VqDm)\n",
      " Call ID: call_mS3NzUkMYb7qay2M27C8VqDm\n",
      "  Args:\n",
      "    query: types of reward hacking\n",
      "\n",
      "\n",
      "\n",
      "Update from node retrieve\n",
      "=================================\u001b[1m Tool Message \u001b[0m=================================\n",
      "Name: retrieve_blog_posts\n",
      "\n",
      "Detecting Reward Hacking#\n",
      "\n",
      "In-Context Reward Hacking#\n",
      "\n",
      "(Note: Some work defines reward tampering as a distinct category of misalignment behavior from reward hacking. But I consider reward hacking as a broader concept here.)\n",
      "At a high level, reward hacking can be categorized into two types: environment or goal misspecification, and reward tampering.\n",
      "\n",
      "Why does Reward Hacking Exist?#\n",
      "\n",
      "\n",
      "\n",
      "Update from node generate_answer\n",
      "==================================\u001b[1m Ai Message \u001b[0m==================================\n",
      "\n",
      "Lilian Weng categorizes reward hacking into two types: environment or goal misspecification, and reward tampering. She considers reward hacking as a broader concept that includes both of these categories. Some work defines reward tampering separately, but Weng includes it under the umbrella of reward hacking.\n",
      "\n",
      "\n",
      "\n"
     ]
    }
   ],
   "source": [
    "def runDemo(graph: CompiledStateGraph):\n",
    "    \"\"\"\n",
    "    Runs the agentic RAG demo\n",
    "    :param graph: Complied state graph\n",
    "    \"\"\"\n",
    "    user_query = {\n",
    "        \"messages\": [\n",
    "            {\n",
    "                \"role\": \"user\",\n",
    "                \"content\": \"What does Lilian Weng say about types of reward hacking?\",\n",
    "            }\n",
    "        ]\n",
    "    }\n",
    "    for chunk in graph.stream(user_query):\n",
    "        for node, update in chunk.items():\n",
    "            print(\"Update from node\", node)\n",
    "            update[\"messages\"][-1].pretty_print()\n",
    "            print(\"\\n\\n\")\n",
    "\n",
    "runDemo(graph)"
   ]
  },
  {
   "cell_type": "code",
   "execution_count": null,
   "id": "11059616-2c7b-466a-abee-3d0f9d5a8dfb",
   "metadata": {},
   "outputs": [],
   "source": []
  }
 ],
 "metadata": {
  "kernelspec": {
   "display_name": "Python 3.12 (agentic_ai_env)",
   "language": "python",
   "name": "agentic_ai_env"
  },
  "language_info": {
   "codemirror_mode": {
    "name": "ipython",
    "version": 3
   },
   "file_extension": ".py",
   "mimetype": "text/x-python",
   "name": "python",
   "nbconvert_exporter": "python",
   "pygments_lexer": "ipython3",
   "version": "3.12.11"
  }
 },
 "nbformat": 4,
 "nbformat_minor": 5
}

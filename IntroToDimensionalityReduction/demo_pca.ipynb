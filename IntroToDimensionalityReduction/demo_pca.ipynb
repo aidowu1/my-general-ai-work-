{
 "cells": [
  {
   "cell_type": "markdown",
   "id": "701bd098-fb9c-420f-ab98-8d9953b624c0",
   "metadata": {},
   "source": [
    "## Demo PCA"
   ]
  },
  {
   "cell_type": "code",
   "execution_count": 1,
   "id": "9f9ad1a3-618a-4d69-9dfe-da1ff78a9ecc",
   "metadata": {},
   "outputs": [],
   "source": [
    "import numpy as np\n",
    "from numpy.linalg import eig\n",
    "from numpy import array\n",
    "from sklearn.decomposition import PCA"
   ]
  },
  {
   "cell_type": "markdown",
   "id": "42c5395e-4971-466e-bc81-5e52ebd2f5f5",
   "metadata": {},
   "source": [
    "#### Define the sample array 'A'"
   ]
  },
  {
   "cell_type": "code",
   "execution_count": 8,
   "id": "63c19d6e-4f3b-4c76-b5c1-b67604452e1b",
   "metadata": {},
   "outputs": [
    {
     "name": "stdout",
     "output_type": "stream",
     "text": [
      "A:\n",
      "\n",
      "[[1 2]\n",
      " [3 4]\n",
      " [5 6]]\n"
     ]
    }
   ],
   "source": [
    "A = np.array([[1,2,], [3,4],[5,6]])\n",
    "\n",
    "print(f\"A:\\n\\n{A}\")"
   ]
  },
  {
   "cell_type": "markdown",
   "id": "bcedd6d1-a400-4b53-8f11-8a2ad6a22b40",
   "metadata": {},
   "source": [
    "### Calculate the mean, 'M' of 'A' and subtract the 'M' from 'A' to compute 'C':"
   ]
  },
  {
   "cell_type": "code",
   "execution_count": 9,
   "id": "3a679302-af9c-41e6-8b6d-f0c5cf524292",
   "metadata": {},
   "outputs": [
    {
     "name": "stdout",
     "output_type": "stream",
     "text": [
      "M:\n",
      "\n",
      "[3. 4.]\n",
      "\n",
      "\n",
      "C:\n",
      "\n",
      "[[-2. -2.]\n",
      " [ 0.  0.]\n",
      " [ 2.  2.]]\n",
      "\n",
      "\n"
     ]
    }
   ],
   "source": [
    "M = np.mean(A.T, axis=1)\n",
    "C = A - M\n",
    "\n",
    "print(f\"M:\\n\\n{M}\\n\\n\")\n",
    "print(f\"C:\\n\\n{C}\\n\\n\")"
   ]
  },
  {
   "cell_type": "markdown",
   "id": "12b16cfb-8786-42fe-a9e8-57b604875f11",
   "metadata": {},
   "source": [
    "### Compute the covariance, 'V' of 'C':"
   ]
  },
  {
   "cell_type": "code",
   "execution_count": 10,
   "id": "4e43b228-08aa-4d19-88d3-71c654b815ca",
   "metadata": {},
   "outputs": [
    {
     "name": "stdout",
     "output_type": "stream",
     "text": [
      "V:\n",
      "\n",
      "[[4. 4.]\n",
      " [4. 4.]]\n",
      "\n",
      "\n"
     ]
    }
   ],
   "source": [
    "V = np.cov(C.T)\n",
    "\n",
    "print(f\"V:\\n\\n{V}\\n\\n\")"
   ]
  },
  {
   "cell_type": "markdown",
   "id": "8cf3bc27-acc6-4325-ab70-715d7719d5e1",
   "metadata": {},
   "source": [
    "### Compute eigendecomposition of covariance matrix, 'V':\n",
    "This will create:\n",
    " - eigen-values\n",
    " - eigen-vectors"
   ]
  },
  {
   "cell_type": "code",
   "execution_count": 11,
   "id": "977a8d6a-74e7-47a8-af0f-2763c2a54773",
   "metadata": {},
   "outputs": [
    {
     "name": "stdout",
     "output_type": "stream",
     "text": [
      "eigen-values:\n",
      "\n",
      "[8. 0.]\n",
      "\n",
      "\n",
      "eigen-vectors:\n",
      "\n",
      "[[ 0.70710678 -0.70710678]\n",
      " [ 0.70710678  0.70710678]]\n",
      "\n",
      "\n"
     ]
    }
   ],
   "source": [
    "values, vectors = eig(V)\n",
    "print(f\"eigen-values:\\n\\n{values}\\n\\n\")\n",
    "print(f\"eigen-vectors:\\n\\n{vectors}\\n\\n\")"
   ]
  },
  {
   "cell_type": "markdown",
   "id": "8eefd919-cc68-4a55-a158-020186238212",
   "metadata": {},
   "source": [
    "### Project the data"
   ]
  },
  {
   "cell_type": "code",
   "execution_count": 12,
   "id": "cf0355b2-5a4e-4df6-b87a-c1e355f4075c",
   "metadata": {},
   "outputs": [
    {
     "name": "stdout",
     "output_type": "stream",
     "text": [
      "P.T:\n",
      "\n",
      "[[-2.82842712  0.        ]\n",
      " [ 0.          0.        ]\n",
      " [ 2.82842712  0.        ]]\n",
      "\n",
      "\n"
     ]
    }
   ],
   "source": [
    "P = vectors.T.dot(C.T)\n",
    "print(f\"P.T:\\n\\n{P.T}\\n\\n\")"
   ]
  },
  {
   "cell_type": "markdown",
   "id": "3aa245eb-393e-461a-befe-5f9c483cc5d9",
   "metadata": {},
   "source": [
    "### Now use sklearn PCA to confirm the results "
   ]
  },
  {
   "cell_type": "code",
   "execution_count": 15,
   "id": "0eaaa93d-43a8-4fe3-9f58-ac99cc678dc5",
   "metadata": {},
   "outputs": [
    {
     "name": "stdout",
     "output_type": "stream",
     "text": [
      "A_hat:\n",
      "\n",
      "[[-2.82842712e+00 -2.22044605e-16]\n",
      " [ 0.00000000e+00  0.00000000e+00]\n",
      " [ 2.82842712e+00  2.22044605e-16]]\n",
      "\n",
      "\n"
     ]
    }
   ],
   "source": [
    "def computePcaResults(A: np.array) -> np.array:\n",
    "    \"\"\"\n",
    "    \"\"\"\n",
    "    dim = A.shape[1]\n",
    "    pca = PCA(n_components=dim)\n",
    "    pca.fit(A)\n",
    "    A_hat = pca.transform(A)\n",
    "    return A_hat\n",
    "\n",
    "A_hat = computePcaResults(A)\n",
    "\n",
    "print(f\"A_hat:\\n\\n{A_hat}\\n\\n\")"
   ]
  },
  {
   "cell_type": "code",
   "execution_count": null,
   "id": "273d0099-a365-4861-b1b2-30b25f7fc0f1",
   "metadata": {},
   "outputs": [],
   "source": []
  }
 ],
 "metadata": {
  "kernelspec": {
   "display_name": "Python 3 (ipykernel)",
   "language": "python",
   "name": "python3"
  },
  "language_info": {
   "codemirror_mode": {
    "name": "ipython",
    "version": 3
   },
   "file_extension": ".py",
   "mimetype": "text/x-python",
   "name": "python",
   "nbconvert_exporter": "python",
   "pygments_lexer": "ipython3",
   "version": "3.10.13"
  }
 },
 "nbformat": 4,
 "nbformat_minor": 5
}

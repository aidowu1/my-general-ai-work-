{
 "cells": [
  {
   "cell_type": "markdown",
   "id": "3424d3ec-11c7-4a57-91fe-742ac131d343",
   "metadata": {},
   "source": [
    "## Duplicate document classifier"
   ]
  },
  {
   "cell_type": "markdown",
   "id": "f94b5198-2fbf-472b-801b-4e09178e55fc",
   "metadata": {},
   "source": [
    "### Imports"
   ]
  },
  {
   "cell_type": "code",
   "execution_count": 2,
   "id": "4b9774ef-2bec-430a-a85c-7f6565a7d79a",
   "metadata": {},
   "outputs": [
    {
     "name": "stderr",
     "output_type": "stream",
     "text": [
      "[nltk_data] Downloading package stopwords to\n",
      "[nltk_data]     C:\\Users\\ADE\\AppData\\Roaming\\nltk_data...\n",
      "[nltk_data]   Package stopwords is already up-to-date!\n"
     ]
    },
    {
     "data": {
      "text/plain": [
       "True"
      ]
     },
     "execution_count": 2,
     "metadata": {},
     "output_type": "execute_result"
    }
   ],
   "source": [
    "import numpy as np\n",
    "import pandas as pd\n",
    "import re\n",
    "from nltk import download\n",
    "from nltk.tokenize import RegexpTokenizer\n",
    "from nltk.stem import WordNetLemmatizer\n",
    "from nltk.corpus import stopwords\n",
    "from sklearn.feature_extraction.text import CountVectorizer\n",
    "from sklearn.model_selection import train_test_split\n",
    "from sklearn.linear_model import LogisticRegression\n",
    "from sklearn.metrics import f1_score, accuracy_score, classification_report, confusion_matrix\n",
    "from sklearn.feature_extraction.text import TfidfVectorizer, TfidfTransformer\n",
    "import torch\n",
    "import torch.nn as nn\n",
    "import sys\n",
    "\n",
    "sys.path.append(\"..\")\n",
    "\n",
    "from modules.clean_data import CleanData\n",
    "from modules.document_vectorizer import DocumentVectorizer\n",
    "from modules.enums import VectorizerType\n",
    "\n",
    "download(\"stopwords\")"
   ]
  },
  {
   "cell_type": "markdown",
   "id": "25d398d2-2d6e-4a9f-868d-7ff705099abd",
   "metadata": {},
   "source": [
    "### Global constants and variables"
   ]
  },
  {
   "cell_type": "code",
   "execution_count": 3,
   "id": "d083437a-2727-4376-8880-253cffed1154",
   "metadata": {},
   "outputs": [],
   "source": [
    "DATASET_PATH = \"data/df_file.csv\"\n",
    "RANDOM_SEED = 100\n",
    "LINE_DIVIDER = \"=\" * 50\n",
    "LABEL_MAPPER = {\n",
    "    0: \"Politics\",\n",
    "    1: \"Sport\",\n",
    "    2: \"Technology\",\n",
    "    3: \"Entertainment\",\n",
    "    4: \"Business\",\n",
    "}"
   ]
  },
  {
   "cell_type": "markdown",
   "id": "43af7d38-efc7-436f-a3e9-9d8be43d5716",
   "metadata": {},
   "source": [
    "### Read dataset"
   ]
  },
  {
   "cell_type": "code",
   "execution_count": 4,
   "id": "6eb168ba-95f1-43e2-8d21-118ba65270b8",
   "metadata": {},
   "outputs": [],
   "source": [
    "dataset_df = pd.read_csv(DATASET_PATH)"
   ]
  },
  {
   "cell_type": "code",
   "execution_count": 5,
   "id": "9159d85f-8d3c-45d5-b56a-193d11fc7bda",
   "metadata": {},
   "outputs": [
    {
     "data": {
      "text/html": [
       "<div>\n",
       "<style scoped>\n",
       "    .dataframe tbody tr th:only-of-type {\n",
       "        vertical-align: middle;\n",
       "    }\n",
       "\n",
       "    .dataframe tbody tr th {\n",
       "        vertical-align: top;\n",
       "    }\n",
       "\n",
       "    .dataframe thead th {\n",
       "        text-align: right;\n",
       "    }\n",
       "</style>\n",
       "<table border=\"1\" class=\"dataframe\">\n",
       "  <thead>\n",
       "    <tr style=\"text-align: right;\">\n",
       "      <th></th>\n",
       "      <th>Text</th>\n",
       "      <th>Label</th>\n",
       "    </tr>\n",
       "  </thead>\n",
       "  <tbody>\n",
       "    <tr>\n",
       "      <th>0</th>\n",
       "      <td>Budget to set scene for election\\n \\n Gordon B...</td>\n",
       "      <td>0</td>\n",
       "    </tr>\n",
       "    <tr>\n",
       "      <th>1</th>\n",
       "      <td>Army chiefs in regiments decision\\n \\n Militar...</td>\n",
       "      <td>0</td>\n",
       "    </tr>\n",
       "    <tr>\n",
       "      <th>2</th>\n",
       "      <td>Howard denies split over ID cards\\n \\n Michael...</td>\n",
       "      <td>0</td>\n",
       "    </tr>\n",
       "    <tr>\n",
       "      <th>3</th>\n",
       "      <td>Observers to monitor UK election\\n \\n Minister...</td>\n",
       "      <td>0</td>\n",
       "    </tr>\n",
       "    <tr>\n",
       "      <th>4</th>\n",
       "      <td>Kilroy names election seat target\\n \\n Ex-chat...</td>\n",
       "      <td>0</td>\n",
       "    </tr>\n",
       "    <tr>\n",
       "      <th>...</th>\n",
       "      <td>...</td>\n",
       "      <td>...</td>\n",
       "    </tr>\n",
       "    <tr>\n",
       "      <th>2220</th>\n",
       "      <td>India opens skies to competition\\n \\n India wi...</td>\n",
       "      <td>4</td>\n",
       "    </tr>\n",
       "    <tr>\n",
       "      <th>2221</th>\n",
       "      <td>Yukos bankruptcy 'not US matter'\\n \\n Russian ...</td>\n",
       "      <td>4</td>\n",
       "    </tr>\n",
       "    <tr>\n",
       "      <th>2222</th>\n",
       "      <td>Survey confirms property slowdown\\n \\n Governm...</td>\n",
       "      <td>4</td>\n",
       "    </tr>\n",
       "    <tr>\n",
       "      <th>2223</th>\n",
       "      <td>High fuel prices hit BA's profits\\n \\n British...</td>\n",
       "      <td>4</td>\n",
       "    </tr>\n",
       "    <tr>\n",
       "      <th>2224</th>\n",
       "      <td>US trade gap hits record in 2004\\n \\n The gap ...</td>\n",
       "      <td>4</td>\n",
       "    </tr>\n",
       "  </tbody>\n",
       "</table>\n",
       "<p>2225 rows × 2 columns</p>\n",
       "</div>"
      ],
      "text/plain": [
       "                                                   Text  Label\n",
       "0     Budget to set scene for election\\n \\n Gordon B...      0\n",
       "1     Army chiefs in regiments decision\\n \\n Militar...      0\n",
       "2     Howard denies split over ID cards\\n \\n Michael...      0\n",
       "3     Observers to monitor UK election\\n \\n Minister...      0\n",
       "4     Kilroy names election seat target\\n \\n Ex-chat...      0\n",
       "...                                                 ...    ...\n",
       "2220  India opens skies to competition\\n \\n India wi...      4\n",
       "2221  Yukos bankruptcy 'not US matter'\\n \\n Russian ...      4\n",
       "2222  Survey confirms property slowdown\\n \\n Governm...      4\n",
       "2223  High fuel prices hit BA's profits\\n \\n British...      4\n",
       "2224  US trade gap hits record in 2004\\n \\n The gap ...      4\n",
       "\n",
       "[2225 rows x 2 columns]"
      ]
     },
     "execution_count": 5,
     "metadata": {},
     "output_type": "execute_result"
    }
   ],
   "source": [
    "dataset_df"
   ]
  },
  {
   "cell_type": "markdown",
   "id": "b049207d-baf4-4e99-ac47-11c42a6743c0",
   "metadata": {},
   "source": [
    "### Define training data"
   ]
  },
  {
   "cell_type": "code",
   "execution_count": 6,
   "id": "59b96940-fc25-4075-aa58-eace744e5b0a",
   "metadata": {},
   "outputs": [],
   "source": [
    "X = pd.DataFrame({\"document\": dataset_df[\"Text\"]})\n",
    "y = dataset_df[\"Label\"]"
   ]
  },
  {
   "cell_type": "code",
   "execution_count": 7,
   "id": "a41cc826-7992-4299-9985-ce9e8416cfc8",
   "metadata": {},
   "outputs": [
    {
     "data": {
      "text/plain": [
       "0    budget set scene election gordon brown seek pu...\n",
       "1    army chiefs regiments decision military chiefs...\n",
       "2    howard denies split cards michael howard denie...\n",
       "3    observers monitor election ministers invite in...\n",
       "4    kilroy names election seat target exchat show ...\n",
       "Name: document, dtype: object"
      ]
     },
     "execution_count": 7,
     "metadata": {},
     "output_type": "execute_result"
    }
   ],
   "source": [
    "X_clean = X.document.apply(lambda doc: CleanData.run(doc))\n",
    "X_clean.head()"
   ]
  },
  {
   "cell_type": "markdown",
   "id": "71acd37f",
   "metadata": {},
   "source": [
    "### Vectorize documents\n",
    " - Count Vectorizer => \"Bag of Words\""
   ]
  },
  {
   "cell_type": "code",
   "execution_count": 8,
   "id": "1d7d0dbb",
   "metadata": {},
   "outputs": [],
   "source": [
    "vectorizer_bow = DocumentVectorizer()\n",
    "X_vectors_bow = vectorizer_bow.fit_transform(X_clean).toarray()"
   ]
  },
  {
   "cell_type": "code",
   "execution_count": 9,
   "id": "346dcc74",
   "metadata": {},
   "outputs": [
    {
     "data": {
      "text/plain": [
       "array([0, 0, 0, 0, 0, 0, 0, 1, 0, 0, 0, 0, 0, 0, 0, 0, 1, 0, 0, 0])"
      ]
     },
     "execution_count": 9,
     "metadata": {},
     "output_type": "execute_result"
    }
   ],
   "source": [
    "X_vectors_bow[0, :20]"
   ]
  },
  {
   "cell_type": "code",
   "execution_count": 10,
   "id": "335f4d3c",
   "metadata": {},
   "outputs": [
    {
     "data": {
      "text/plain": [
       "0    0\n",
       "1    0\n",
       "2    0\n",
       "3    0\n",
       "4    0\n",
       "Name: Label, dtype: int64"
      ]
     },
     "execution_count": 10,
     "metadata": {},
     "output_type": "execute_result"
    }
   ],
   "source": [
    "y[:5]"
   ]
  },
  {
   "cell_type": "markdown",
   "id": "fbcf71d9",
   "metadata": {},
   "source": [
    "##### Document-Term-Matrix => Vocabulary"
   ]
  },
  {
   "cell_type": "code",
   "execution_count": 11,
   "id": "b209be68",
   "metadata": {},
   "outputs": [
    {
     "data": {
      "text/html": [
       "<div>\n",
       "<style scoped>\n",
       "    .dataframe tbody tr th:only-of-type {\n",
       "        vertical-align: middle;\n",
       "    }\n",
       "\n",
       "    .dataframe tbody tr th {\n",
       "        vertical-align: top;\n",
       "    }\n",
       "\n",
       "    .dataframe thead th {\n",
       "        text-align: right;\n",
       "    }\n",
       "</style>\n",
       "<table border=\"1\" class=\"dataframe\">\n",
       "  <thead>\n",
       "    <tr style=\"text-align: right;\">\n",
       "      <th></th>\n",
       "      <th>aaas</th>\n",
       "      <th>abandoned</th>\n",
       "      <th>abc</th>\n",
       "      <th>ability</th>\n",
       "      <th>able</th>\n",
       "      <th>abn</th>\n",
       "      <th>abortion</th>\n",
       "      <th>about</th>\n",
       "      <th>above</th>\n",
       "      <th>abroad</th>\n",
       "      <th>...</th>\n",
       "      <th>youre</th>\n",
       "      <th>youth</th>\n",
       "      <th>youve</th>\n",
       "      <th>yuan</th>\n",
       "      <th>yugansk</th>\n",
       "      <th>yuganskneftegas</th>\n",
       "      <th>yukos</th>\n",
       "      <th>yushchenko</th>\n",
       "      <th>zealand</th>\n",
       "      <th>zone</th>\n",
       "    </tr>\n",
       "  </thead>\n",
       "  <tbody>\n",
       "    <tr>\n",
       "      <th>0</th>\n",
       "      <td>0</td>\n",
       "      <td>0</td>\n",
       "      <td>0</td>\n",
       "      <td>0</td>\n",
       "      <td>0</td>\n",
       "      <td>0</td>\n",
       "      <td>0</td>\n",
       "      <td>1</td>\n",
       "      <td>0</td>\n",
       "      <td>0</td>\n",
       "      <td>...</td>\n",
       "      <td>0</td>\n",
       "      <td>0</td>\n",
       "      <td>0</td>\n",
       "      <td>0</td>\n",
       "      <td>0</td>\n",
       "      <td>0</td>\n",
       "      <td>0</td>\n",
       "      <td>0</td>\n",
       "      <td>0</td>\n",
       "      <td>0</td>\n",
       "    </tr>\n",
       "    <tr>\n",
       "      <th>1</th>\n",
       "      <td>0</td>\n",
       "      <td>0</td>\n",
       "      <td>0</td>\n",
       "      <td>0</td>\n",
       "      <td>0</td>\n",
       "      <td>0</td>\n",
       "      <td>0</td>\n",
       "      <td>0</td>\n",
       "      <td>0</td>\n",
       "      <td>0</td>\n",
       "      <td>...</td>\n",
       "      <td>0</td>\n",
       "      <td>0</td>\n",
       "      <td>0</td>\n",
       "      <td>0</td>\n",
       "      <td>0</td>\n",
       "      <td>0</td>\n",
       "      <td>0</td>\n",
       "      <td>0</td>\n",
       "      <td>0</td>\n",
       "      <td>0</td>\n",
       "    </tr>\n",
       "    <tr>\n",
       "      <th>2</th>\n",
       "      <td>0</td>\n",
       "      <td>0</td>\n",
       "      <td>0</td>\n",
       "      <td>0</td>\n",
       "      <td>1</td>\n",
       "      <td>0</td>\n",
       "      <td>0</td>\n",
       "      <td>0</td>\n",
       "      <td>0</td>\n",
       "      <td>0</td>\n",
       "      <td>...</td>\n",
       "      <td>0</td>\n",
       "      <td>0</td>\n",
       "      <td>0</td>\n",
       "      <td>0</td>\n",
       "      <td>0</td>\n",
       "      <td>0</td>\n",
       "      <td>0</td>\n",
       "      <td>0</td>\n",
       "      <td>0</td>\n",
       "      <td>0</td>\n",
       "    </tr>\n",
       "    <tr>\n",
       "      <th>3</th>\n",
       "      <td>0</td>\n",
       "      <td>0</td>\n",
       "      <td>0</td>\n",
       "      <td>0</td>\n",
       "      <td>0</td>\n",
       "      <td>0</td>\n",
       "      <td>0</td>\n",
       "      <td>0</td>\n",
       "      <td>0</td>\n",
       "      <td>0</td>\n",
       "      <td>...</td>\n",
       "      <td>0</td>\n",
       "      <td>0</td>\n",
       "      <td>0</td>\n",
       "      <td>0</td>\n",
       "      <td>0</td>\n",
       "      <td>0</td>\n",
       "      <td>0</td>\n",
       "      <td>0</td>\n",
       "      <td>0</td>\n",
       "      <td>0</td>\n",
       "    </tr>\n",
       "    <tr>\n",
       "      <th>4</th>\n",
       "      <td>0</td>\n",
       "      <td>0</td>\n",
       "      <td>0</td>\n",
       "      <td>1</td>\n",
       "      <td>0</td>\n",
       "      <td>0</td>\n",
       "      <td>0</td>\n",
       "      <td>0</td>\n",
       "      <td>0</td>\n",
       "      <td>0</td>\n",
       "      <td>...</td>\n",
       "      <td>0</td>\n",
       "      <td>0</td>\n",
       "      <td>0</td>\n",
       "      <td>0</td>\n",
       "      <td>0</td>\n",
       "      <td>0</td>\n",
       "      <td>0</td>\n",
       "      <td>0</td>\n",
       "      <td>0</td>\n",
       "      <td>0</td>\n",
       "    </tr>\n",
       "  </tbody>\n",
       "</table>\n",
       "<p>5 rows × 5000 columns</p>\n",
       "</div>"
      ],
      "text/plain": [
       "   aaas  abandoned  abc  ability  able  abn  abortion  about  above  abroad  \\\n",
       "0     0          0    0        0     0    0         0      1      0       0   \n",
       "1     0          0    0        0     0    0         0      0      0       0   \n",
       "2     0          0    0        0     1    0         0      0      0       0   \n",
       "3     0          0    0        0     0    0         0      0      0       0   \n",
       "4     0          0    0        1     0    0         0      0      0       0   \n",
       "\n",
       "   ...  youre  youth  youve  yuan  yugansk  yuganskneftegas  yukos  \\\n",
       "0  ...      0      0      0     0        0                0      0   \n",
       "1  ...      0      0      0     0        0                0      0   \n",
       "2  ...      0      0      0     0        0                0      0   \n",
       "3  ...      0      0      0     0        0                0      0   \n",
       "4  ...      0      0      0     0        0                0      0   \n",
       "\n",
       "   yushchenko  zealand  zone  \n",
       "0           0        0     0  \n",
       "1           0        0     0  \n",
       "2           0        0     0  \n",
       "3           0        0     0  \n",
       "4           0        0     0  \n",
       "\n",
       "[5 rows x 5000 columns]"
      ]
     },
     "execution_count": 11,
     "metadata": {},
     "output_type": "execute_result"
    }
   ],
   "source": [
    "vectorizer_bow.document_term_matrix.head()"
   ]
  },
  {
   "cell_type": "markdown",
   "id": "ee7ec933-8325-4beb-9074-f6bdc26dc9e8",
   "metadata": {},
   "source": [
    "### Partition dataset (BOW)"
   ]
  },
  {
   "cell_type": "code",
   "execution_count": 12,
   "id": "2ea96fd3-8c23-4c25-86ac-a124cd18359a",
   "metadata": {},
   "outputs": [],
   "source": [
    "X_train_bow, X_test_bow, y_train, y_test = train_test_split(\n",
    "  X_vectors_bow, y , random_state=RANDOM_SEED,test_size=0.2, shuffle=True)"
   ]
  },
  {
   "cell_type": "markdown",
   "id": "e90f2e62",
   "metadata": {},
   "source": [
    "### Convert the features & labels into tensors"
   ]
  },
  {
   "cell_type": "code",
   "execution_count": 13,
   "id": "73ea2413-1d7a-4911-964a-77e145ce7d32",
   "metadata": {},
   "outputs": [],
   "source": [
    "features_train = torch.tensor(X_train_bow).float()\n",
    "features_test = torch.tensor(X_test_bow).float()\n",
    "labels_train = torch.tensor(y_train.values)\n",
    "labels_test = torch.tensor(y_test.values)   "
   ]
  },
  {
   "cell_type": "markdown",
   "id": "892b6942",
   "metadata": {},
   "source": [
    "### Classifer data using \"bag of words\" i.e. count vectorizer"
   ]
  },
  {
   "cell_type": "code",
   "execution_count": 14,
   "id": "1f2b1dbe-b83c-4a84-a58a-d7bea3781a14",
   "metadata": {},
   "outputs": [],
   "source": [
    "def classify_documents(\n",
    "        features_train, \n",
    "        labels_train, \n",
    "        features_test, \n",
    "        labels_test\n",
    "        ):\n",
    "    \"\"\"\n",
    "    Classify documents using Logistic Regression and print evaluation metrics.\n",
    "    :param features_train: Training feature set\n",
    "    :param labels_train: Training labels   \n",
    "    :param features_test: Testing feature set\n",
    "    :param labels_test: Testing labels\n",
    "    :return: None\n",
    "    \"\"\"\n",
    "    model = LogisticRegression()\n",
    "    model.fit(features_train, labels_train)\n",
    "    predictions = model.predict(features_test)\n",
    "    f1 = f1_score(labels_test, predictions, average='weighted')\n",
    "    confusion_matrix_score = confusion_matrix(labels_test, predictions)\n",
    "    target_names = [f\"topic {x}\" for x in list(set(labels_test.tolist()))] \n",
    "    print(classification_report(labels_test, predictions, target_names=target_names))\n",
    "    print(\"\\n\\n\")\n",
    "    print(f\"Confusion Matrix:\\n{confusion_matrix_score}\")\n",
    "    print(f\"\\n{LINE_DIVIDER}\")"
   ]
  },
  {
   "cell_type": "code",
   "execution_count": 15,
   "id": "93cc90c3-4d12-44ee-b946-8676eb72c2c6",
   "metadata": {},
   "outputs": [
    {
     "name": "stdout",
     "output_type": "stream",
     "text": [
      "Bag-of-Words Document Classification Results\n",
      "              precision    recall  f1-score   support\n",
      "\n",
      "     topic 0       0.99      0.96      0.98        84\n",
      "     topic 1       0.98      0.99      0.99       100\n",
      "     topic 2       1.00      0.91      0.95        91\n",
      "     topic 3       0.96      1.00      0.98        64\n",
      "     topic 4       0.95      1.00      0.97       106\n",
      "\n",
      "    accuracy                           0.97       445\n",
      "   macro avg       0.97      0.97      0.97       445\n",
      "weighted avg       0.97      0.97      0.97       445\n",
      "\n",
      "\n",
      "\n",
      "\n",
      "Confusion Matrix:\n",
      "[[ 81   1   0   0   2]\n",
      " [  1  99   0   0   0]\n",
      " [  0   1  83   3   4]\n",
      " [  0   0   0  64   0]\n",
      " [  0   0   0   0 106]]\n",
      "\n",
      "==================================================\n"
     ]
    }
   ],
   "source": [
    "print(\"Bag-of-Words Document Classification Results\")\n",
    "classify_documents(\n",
    "        features_train, \n",
    "        labels_train, \n",
    "        features_test, \n",
    "        labels_test\n",
    "        )"
   ]
  },
  {
   "cell_type": "code",
   "execution_count": null,
   "id": "676ecc28-12a3-4c94-b5a3-30affa025afa",
   "metadata": {},
   "outputs": [],
   "source": []
  },
  {
   "cell_type": "markdown",
   "id": "763383de",
   "metadata": {},
   "source": [
    "### Vectorize documents \n",
    " - TF-IDF (Term Frequency Document Frequency)"
   ]
  },
  {
   "cell_type": "code",
   "execution_count": 16,
   "id": "4cdf6b8e-b6bf-41a7-99bf-e81eb800a882",
   "metadata": {
    "scrolled": true
   },
   "outputs": [],
   "source": [
    "vectorizer_tfidf = DocumentVectorizer(vectorizer_type=VectorizerType.TFIDF)\n",
    "X_vectors_tfidf = vectorizer_tfidf.fit_transform(X_clean).toarray()\n"
   ]
  },
  {
   "cell_type": "code",
   "execution_count": 17,
   "id": "b3ca1bc8-204b-44c6-8eb9-44cb0ed1eea8",
   "metadata": {},
   "outputs": [
    {
     "data": {
      "text/plain": [
       "array([0.        , 0.        , 0.        , 0.        , 0.        ,\n",
       "       0.        , 0.        , 0.02992667, 0.        , 0.        ,\n",
       "       0.        , 0.        , 0.        , 0.        , 0.        ,\n",
       "       0.        , 0.04099694, 0.        , 0.        , 0.        ])"
      ]
     },
     "execution_count": 17,
     "metadata": {},
     "output_type": "execute_result"
    }
   ],
   "source": [
    "X_vectors_tfidf[0, :20]"
   ]
  },
  {
   "cell_type": "code",
   "execution_count": 18,
   "id": "e252f762",
   "metadata": {},
   "outputs": [
    {
     "data": {
      "text/plain": [
       "0    0\n",
       "1    0\n",
       "2    0\n",
       "3    0\n",
       "4    0\n",
       "Name: Label, dtype: int64"
      ]
     },
     "execution_count": 18,
     "metadata": {},
     "output_type": "execute_result"
    }
   ],
   "source": [
    "y[:5]"
   ]
  },
  {
   "cell_type": "code",
   "execution_count": 19,
   "id": "90f7b9c1",
   "metadata": {},
   "outputs": [
    {
     "data": {
      "text/html": [
       "<div>\n",
       "<style scoped>\n",
       "    .dataframe tbody tr th:only-of-type {\n",
       "        vertical-align: middle;\n",
       "    }\n",
       "\n",
       "    .dataframe tbody tr th {\n",
       "        vertical-align: top;\n",
       "    }\n",
       "\n",
       "    .dataframe thead th {\n",
       "        text-align: right;\n",
       "    }\n",
       "</style>\n",
       "<table border=\"1\" class=\"dataframe\">\n",
       "  <thead>\n",
       "    <tr style=\"text-align: right;\">\n",
       "      <th></th>\n",
       "      <th>aaas</th>\n",
       "      <th>abandoned</th>\n",
       "      <th>abc</th>\n",
       "      <th>ability</th>\n",
       "      <th>able</th>\n",
       "      <th>abn</th>\n",
       "      <th>abortion</th>\n",
       "      <th>about</th>\n",
       "      <th>above</th>\n",
       "      <th>abroad</th>\n",
       "      <th>...</th>\n",
       "      <th>youre</th>\n",
       "      <th>youth</th>\n",
       "      <th>youve</th>\n",
       "      <th>yuan</th>\n",
       "      <th>yugansk</th>\n",
       "      <th>yuganskneftegas</th>\n",
       "      <th>yukos</th>\n",
       "      <th>yushchenko</th>\n",
       "      <th>zealand</th>\n",
       "      <th>zone</th>\n",
       "    </tr>\n",
       "  </thead>\n",
       "  <tbody>\n",
       "    <tr>\n",
       "      <th>0</th>\n",
       "      <td>0.0</td>\n",
       "      <td>0.0</td>\n",
       "      <td>0.0</td>\n",
       "      <td>0.000000</td>\n",
       "      <td>0.000000</td>\n",
       "      <td>0.0</td>\n",
       "      <td>0.0</td>\n",
       "      <td>0.029927</td>\n",
       "      <td>0.0</td>\n",
       "      <td>0.0</td>\n",
       "      <td>...</td>\n",
       "      <td>0.0</td>\n",
       "      <td>0.0</td>\n",
       "      <td>0.0</td>\n",
       "      <td>0.0</td>\n",
       "      <td>0.0</td>\n",
       "      <td>0.0</td>\n",
       "      <td>0.0</td>\n",
       "      <td>0.0</td>\n",
       "      <td>0.0</td>\n",
       "      <td>0.0</td>\n",
       "    </tr>\n",
       "    <tr>\n",
       "      <th>1</th>\n",
       "      <td>0.0</td>\n",
       "      <td>0.0</td>\n",
       "      <td>0.0</td>\n",
       "      <td>0.000000</td>\n",
       "      <td>0.000000</td>\n",
       "      <td>0.0</td>\n",
       "      <td>0.0</td>\n",
       "      <td>0.000000</td>\n",
       "      <td>0.0</td>\n",
       "      <td>0.0</td>\n",
       "      <td>...</td>\n",
       "      <td>0.0</td>\n",
       "      <td>0.0</td>\n",
       "      <td>0.0</td>\n",
       "      <td>0.0</td>\n",
       "      <td>0.0</td>\n",
       "      <td>0.0</td>\n",
       "      <td>0.0</td>\n",
       "      <td>0.0</td>\n",
       "      <td>0.0</td>\n",
       "      <td>0.0</td>\n",
       "    </tr>\n",
       "    <tr>\n",
       "      <th>2</th>\n",
       "      <td>0.0</td>\n",
       "      <td>0.0</td>\n",
       "      <td>0.0</td>\n",
       "      <td>0.000000</td>\n",
       "      <td>0.032113</td>\n",
       "      <td>0.0</td>\n",
       "      <td>0.0</td>\n",
       "      <td>0.000000</td>\n",
       "      <td>0.0</td>\n",
       "      <td>0.0</td>\n",
       "      <td>...</td>\n",
       "      <td>0.0</td>\n",
       "      <td>0.0</td>\n",
       "      <td>0.0</td>\n",
       "      <td>0.0</td>\n",
       "      <td>0.0</td>\n",
       "      <td>0.0</td>\n",
       "      <td>0.0</td>\n",
       "      <td>0.0</td>\n",
       "      <td>0.0</td>\n",
       "      <td>0.0</td>\n",
       "    </tr>\n",
       "    <tr>\n",
       "      <th>3</th>\n",
       "      <td>0.0</td>\n",
       "      <td>0.0</td>\n",
       "      <td>0.0</td>\n",
       "      <td>0.000000</td>\n",
       "      <td>0.000000</td>\n",
       "      <td>0.0</td>\n",
       "      <td>0.0</td>\n",
       "      <td>0.000000</td>\n",
       "      <td>0.0</td>\n",
       "      <td>0.0</td>\n",
       "      <td>...</td>\n",
       "      <td>0.0</td>\n",
       "      <td>0.0</td>\n",
       "      <td>0.0</td>\n",
       "      <td>0.0</td>\n",
       "      <td>0.0</td>\n",
       "      <td>0.0</td>\n",
       "      <td>0.0</td>\n",
       "      <td>0.0</td>\n",
       "      <td>0.0</td>\n",
       "      <td>0.0</td>\n",
       "    </tr>\n",
       "    <tr>\n",
       "      <th>4</th>\n",
       "      <td>0.0</td>\n",
       "      <td>0.0</td>\n",
       "      <td>0.0</td>\n",
       "      <td>0.039394</td>\n",
       "      <td>0.000000</td>\n",
       "      <td>0.0</td>\n",
       "      <td>0.0</td>\n",
       "      <td>0.000000</td>\n",
       "      <td>0.0</td>\n",
       "      <td>0.0</td>\n",
       "      <td>...</td>\n",
       "      <td>0.0</td>\n",
       "      <td>0.0</td>\n",
       "      <td>0.0</td>\n",
       "      <td>0.0</td>\n",
       "      <td>0.0</td>\n",
       "      <td>0.0</td>\n",
       "      <td>0.0</td>\n",
       "      <td>0.0</td>\n",
       "      <td>0.0</td>\n",
       "      <td>0.0</td>\n",
       "    </tr>\n",
       "  </tbody>\n",
       "</table>\n",
       "<p>5 rows × 5000 columns</p>\n",
       "</div>"
      ],
      "text/plain": [
       "   aaas  abandoned  abc   ability      able  abn  abortion     about  above  \\\n",
       "0   0.0        0.0  0.0  0.000000  0.000000  0.0       0.0  0.029927    0.0   \n",
       "1   0.0        0.0  0.0  0.000000  0.000000  0.0       0.0  0.000000    0.0   \n",
       "2   0.0        0.0  0.0  0.000000  0.032113  0.0       0.0  0.000000    0.0   \n",
       "3   0.0        0.0  0.0  0.000000  0.000000  0.0       0.0  0.000000    0.0   \n",
       "4   0.0        0.0  0.0  0.039394  0.000000  0.0       0.0  0.000000    0.0   \n",
       "\n",
       "   abroad  ...  youre  youth  youve  yuan  yugansk  yuganskneftegas  yukos  \\\n",
       "0     0.0  ...    0.0    0.0    0.0   0.0      0.0              0.0    0.0   \n",
       "1     0.0  ...    0.0    0.0    0.0   0.0      0.0              0.0    0.0   \n",
       "2     0.0  ...    0.0    0.0    0.0   0.0      0.0              0.0    0.0   \n",
       "3     0.0  ...    0.0    0.0    0.0   0.0      0.0              0.0    0.0   \n",
       "4     0.0  ...    0.0    0.0    0.0   0.0      0.0              0.0    0.0   \n",
       "\n",
       "   yushchenko  zealand  zone  \n",
       "0         0.0      0.0   0.0  \n",
       "1         0.0      0.0   0.0  \n",
       "2         0.0      0.0   0.0  \n",
       "3         0.0      0.0   0.0  \n",
       "4         0.0      0.0   0.0  \n",
       "\n",
       "[5 rows x 5000 columns]"
      ]
     },
     "execution_count": 19,
     "metadata": {},
     "output_type": "execute_result"
    }
   ],
   "source": [
    "vectorizer_tfidf.document_term_matrix.head()"
   ]
  },
  {
   "cell_type": "markdown",
   "id": "507de778",
   "metadata": {},
   "source": [
    "### Partition dataset (TF-IDF)"
   ]
  },
  {
   "cell_type": "code",
   "execution_count": 20,
   "id": "a9a1839f",
   "metadata": {},
   "outputs": [],
   "source": [
    "X_train_tfidf, X_test_tfidf, y_train, y_test = train_test_split(\n",
    "  X_vectors_tfidf, y , random_state=RANDOM_SEED,test_size=0.2, shuffle=True)"
   ]
  },
  {
   "cell_type": "code",
   "execution_count": 21,
   "id": "c3c1d85e",
   "metadata": {},
   "outputs": [
    {
     "name": "stdout",
     "output_type": "stream",
     "text": [
      "TF-IDF Document Classification Results\n",
      "              precision    recall  f1-score   support\n",
      "\n",
      "     topic 0       1.00      0.96      0.98        84\n",
      "     topic 1       0.98      1.00      0.99       100\n",
      "     topic 2       0.98      0.97      0.97        91\n",
      "     topic 3       0.97      0.98      0.98        64\n",
      "     topic 4       0.98      0.99      0.99       106\n",
      "\n",
      "    accuracy                           0.98       445\n",
      "   macro avg       0.98      0.98      0.98       445\n",
      "weighted avg       0.98      0.98      0.98       445\n",
      "\n",
      "\n",
      "\n",
      "\n",
      "Confusion Matrix:\n",
      "[[ 81   1   0   0   2]\n",
      " [  0 100   0   0   0]\n",
      " [  0   1  88   2   0]\n",
      " [  0   0   1  63   0]\n",
      " [  0   0   1   0 105]]\n",
      "\n",
      "==================================================\n"
     ]
    }
   ],
   "source": [
    "print(\"TF-IDF Document Classification Results\")\n",
    "classify_documents(\n",
    "        X_train_tfidf, \n",
    "        y_train, \n",
    "        X_test_tfidf, \n",
    "        y_test\n",
    "        )"
   ]
  },
  {
   "cell_type": "code",
   "execution_count": null,
   "id": "73384b7c",
   "metadata": {},
   "outputs": [],
   "source": []
  }
 ],
 "metadata": {
  "kernelspec": {
   "display_name": "Document-Classification",
   "language": "python",
   "name": "python3"
  },
  "language_info": {
   "codemirror_mode": {
    "name": "ipython",
    "version": 3
   },
   "file_extension": ".py",
   "mimetype": "text/x-python",
   "name": "python",
   "nbconvert_exporter": "python",
   "pygments_lexer": "ipython3",
   "version": "3.12.11"
  }
 },
 "nbformat": 4,
 "nbformat_minor": 5
}
